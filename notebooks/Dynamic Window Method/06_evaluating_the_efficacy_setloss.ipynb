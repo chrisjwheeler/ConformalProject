{
 "cells": [
  {
   "cell_type": "code",
   "execution_count": 2,
   "metadata": {},
   "outputs": [],
   "source": [
    "import os\n",
    "import sys\n",
    "import warnings\n",
    "warnings.filterwarnings(\"ignore\")\n",
    "\n",
    "import numpy as np\n",
    "import pandas as pd\n",
    "import yahooquery as yq\n",
    "import random\n",
    "\n",
    "import matplotlib.pyplot as plt\n",
    "\n",
    "\n",
    "src_path = os.path.abspath(os.path.join('..', '..', 'src'))\n",
    "sys.path.append(src_path)\n",
    "\n",
    "from ConformalMethods import AdaptiveCP, ACP_plots, ACP_data"
   ]
  },
  {
   "cell_type": "markdown",
   "metadata": {},
   "source": [
    "# Getting the Stockdata"
   ]
  },
  {
   "cell_type": "code",
   "execution_count": 3,
   "metadata": {},
   "outputs": [],
   "source": [
    "def get_stock_data(start_index, end_index):\n",
    "    # Open txt file containg ticker names\n",
    "    with open(r'C:\\Users\\tobyw\\Documents\\ChrisPython\\ConformalProject\\scripts\\snptickers.txt', 'r') as f:\n",
    "        all_tickers = f.read().splitlines()\n",
    "        all_tickers.sort()\n",
    "    \n",
    "    stock_tickers = all_tickers[start_index:end_index]\n",
    "\n",
    "    tickers = yq.Ticker(stock_tickers)\n",
    "    all_price_data = tickers.history(period='5y', interval='1d')\n",
    "    price_df = all_price_data[['close']].copy()\n",
    "\n",
    "    stock_data_tuples = []\n",
    "\n",
    "    # Some tickers in the list are incorrect or not trading so need \n",
    "\n",
    "    for ticker_symbol in price_df.index.get_level_values(0).unique():\n",
    "        # Getting the volatilty data for each ticker\n",
    "        ticker_price_data = price_df.loc[ticker_symbol]\n",
    "        ticker_close = ticker_price_data['close'].to_numpy()\n",
    "\n",
    "        # As when creating the volaility there is an intial NaN value, I will remove this.\n",
    "        ticker_close = ticker_close[1:]\n",
    "\n",
    "        # Appending it to the stock_data_tuples list, the last volatilty is used as the prediciton for the next.\n",
    "        stock_data_tuples.append((ticker_close[:-1], ticker_close[1:]))\n",
    "    \n",
    "\n",
    "    return stock_data_tuples\n",
    "\n"
   ]
  },
  {
   "cell_type": "code",
   "execution_count": 4,
   "metadata": {},
   "outputs": [],
   "source": [
    "stock_data = get_stock_data(0, 100)"
   ]
  },
  {
   "cell_type": "markdown",
   "metadata": {},
   "source": [
    "## Analysing set loss"
   ]
  },
  {
   "cell_type": "markdown",
   "metadata": {},
   "source": [
    "We will want:\n",
    "- the set_loss of each head\n",
    "- the prediction width of each head\n",
    "- error of each head"
   ]
  },
  {
   "cell_type": "code",
   "execution_count": 5,
   "metadata": {},
   "outputs": [],
   "source": [
    "class AnalticalACP(AdaptiveCP):\n",
    "    def AwACI(self, timeseries_data: tuple, interval_candidates: np.array = None, nu_sigma: tuple = (10**-3, 0.05), gamma: float = 0.05, title: str = None):\n",
    "        \n",
    "        xpred, y = timeseries_data\n",
    "\n",
    "        chosen_interval_index = []\n",
    "        err_t_list = []\n",
    "        conformal_sets_list = []\n",
    "        optimal_radius_list = []\n",
    "        chosen_radius_list = []\n",
    "\n",
    "        # Extras.\n",
    "        set_loss_list = []\n",
    "        head_radii_list = []\n",
    "        head_error_list = []\n",
    "\n",
    "        Set_loss = self.set_loss_vectorize()\n",
    "\n",
    "\n",
    "\n",
    "        # Scale parameters, havent looked into scaling them best.\n",
    "        sigma = nu_sigma[1]\n",
    "        nu = nu_sigma[0] \n",
    "\n",
    "        if interval_candidates is None:\n",
    "            interval_candidates = np.array(range(50, 550, 100))\n",
    "\n",
    "        # To sync all of the heads we need to start at the max of all the candidates.\n",
    "        start_point = max(interval_candidates) + 1\n",
    "        i_count = start_point\n",
    "\n",
    "        # Create the head and intitialse the weights.\n",
    "        ACI_heads = [self.ACI_head(timeseries_data, gamma, start_point, interval) for interval in interval_candidates]\n",
    "        interval_weights = np.array([1 for _ in range(len(interval_candidates))])\n",
    "        \n",
    "        # Continues calculating intervals until one of the heads stops.\n",
    "        none_terminated = True\n",
    "\n",
    "        while none_terminated: \n",
    "            head_sets = [] # Will contain the result from each head.\n",
    "            \n",
    "            # Create the mass distribution for each head\n",
    "            Wt = interval_weights.sum()\n",
    "            interval_probabilites = interval_weights/Wt\n",
    "        \n",
    "            try:\n",
    "                # Create a list of the coverages for the different heads.\n",
    "                for head in ACI_heads:\n",
    "                        head_sets.append(next(head))\n",
    "            \n",
    "            except StopIteration: # One head is terminated.\n",
    "                none_terminated = False\n",
    "                break # You could but the return statement here\n",
    "\n",
    "\n",
    "            # Choosing which head to use.\n",
    "            chosen_set = random.choices(head_sets, weights=interval_probabilites, k=1)[0] # Using random module as numpy can not deal with tuples.\n",
    "            conformal_sets_list.append(chosen_set)\n",
    "            chosen_interval_index.append(head_sets.index(chosen_set))\n",
    "\n",
    "\n",
    "\n",
    "            # TIME FRONTIER -------------\n",
    "\n",
    "            # Seeing whether result lies within the set.\n",
    "            err_true = AdaptiveCP.err_t(y[i_count], chosen_set)\n",
    "\n",
    "            head_err = [AdaptiveCP.err_t(y[i_count], head_set) for head_set in head_sets]\n",
    "            head_error_list.append(head_err)\n",
    "\n",
    "            err_t_list.append(err_true)\n",
    "\n",
    "            # Computing the conformal set radi. \n",
    "            optimal_set_radius = abs(y[i_count] - y[i_count-1]) \n",
    "            head_set_radius = list(map(lambda Cset: (Cset[1] - Cset[0])/2, head_sets)) #(chosen_set[1] - chosen_set[0])/2\n",
    "\n",
    "            optimal_radius_list.append(optimal_set_radius)\n",
    "            chosen_radius_list.append((chosen_set[1] - chosen_set[0])/2)\n",
    "\n",
    "            head_radii_list.append(head_set_radius)\n",
    "            head_set_radius = np.array(head_set_radius)\n",
    "\n",
    "            # Updating the weights.\n",
    "            set_loss = Set_loss(optimal_set_radius, head_set_radius)\n",
    "            set_loss_list.append(set_loss)\n",
    "\n",
    "            new_weights = interval_weights * np.exp(-1 * nu * set_loss) \n",
    "            sumW, lenW = sum(new_weights), len(new_weights)\n",
    "            final_weights = new_weights*(1-sigma) + sumW*(sigma/lenW)\n",
    "            interval_weights = final_weights\n",
    "\n",
    "            # Incrementing the i-count\n",
    "            i_count+=1\n",
    "\n",
    "        # Calculating different averages\n",
    "        realised_interval_coverage = 1 - pd.Series(err_t_list).rolling(50).mean().mean() # 50 is arbitary and could be improved.\n",
    "        average_prediction_interval = np.mean([abs(x[1] - x[0]) for x in conformal_sets_list])\n",
    "\n",
    "        return {\n",
    "                'model': title if title is not None else 'AwACI',\n",
    "                'coverage_target': self.coverage_target,\n",
    "                'interval_candidates': interval_candidates,\n",
    "                'realised_interval_coverage': realised_interval_coverage,\n",
    "                'average_prediction_interval': average_prediction_interval,\n",
    "                'optimal_set_radius': optimal_radius_list, \n",
    "                'chosen_set_radius': chosen_radius_list,\n",
    "                'conformal_sets': conformal_sets_list,\n",
    "                'error_t_list': err_t_list,\n",
    "                'chosen_interval_index': chosen_interval_index,\n",
    "                'start_point': start_point,\n",
    "                'interval_size': 50,\n",
    "                'set_loss_list': set_loss_list,\n",
    "                'head_radii_list': head_radii_list,\n",
    "                'head_error_list': head_error_list\n",
    "                }\n",
    "            "
   ]
  },
  {
   "cell_type": "code",
   "execution_count": 6,
   "metadata": {},
   "outputs": [],
   "source": [
    "ACP = AnalticalACP(0.1)"
   ]
  },
  {
   "cell_type": "code",
   "execution_count": 7,
   "metadata": {},
   "outputs": [],
   "source": [
    "test_result = ACP.AwACI(stock_data[4])"
   ]
  },
  {
   "cell_type": "code",
   "execution_count": 8,
   "metadata": {},
   "outputs": [
    {
     "name": "stdout",
     "output_type": "stream",
     "text": [
      "[0.8989011  0.9010989  0.90549451 0.90769231 0.90769231]\n"
     ]
    }
   ],
   "source": [
    "# Getting the average coverage of each head.\n",
    "head_error_list = np.array(test_result['head_error_list'])\n",
    "print(1- head_error_list.mean(axis=0))\n"
   ]
  },
  {
   "cell_type": "code",
   "execution_count": 9,
   "metadata": {},
   "outputs": [
    {
     "name": "stdout",
     "output_type": "stream",
     "text": [
      "3\n"
     ]
    }
   ],
   "source": [
    "# Getting the average set loss of each head.\n",
    "set_loss_list = np.array(test_result['set_loss_list'])\n",
    "mean = set_loss_list.mean(axis=0)\n",
    "print(np.argmin(mean))"
   ]
  },
  {
   "cell_type": "code",
   "execution_count": 10,
   "metadata": {},
   "outputs": [
    {
     "name": "stdout",
     "output_type": "stream",
     "text": [
      "[5.59097843 5.31418275 5.2209563  5.20439364 5.26072512]\n",
      "3\n"
     ]
    }
   ],
   "source": [
    "# Getting the average set radius of each head.\n",
    "head_radii_list = np.array(test_result['head_radii_list'])\n",
    "print(head_radii_list.mean(axis=0))\n",
    "radi = head_radii_list.mean(axis=0)\n",
    "print(np.argmin(radi))"
   ]
  },
  {
   "cell_type": "code",
   "execution_count": 11,
   "metadata": {},
   "outputs": [
    {
     "name": "stdout",
     "output_type": "stream",
     "text": [
      "sr = 0.6428571428571429\n",
      "sc = 0.11224489795918367\n"
     ]
    }
   ],
   "source": [
    "set_and_radii = []\n",
    "set_and_coverage = []\n",
    "\n",
    "for data in stock_data:\n",
    "    test_result = ACP.AwACI(data)\n",
    "    mean, radii = np.array(test_result['set_loss_list']).mean(axis=0), np.array(test_result['head_radii_list']).mean(axis=0)\n",
    "    coverage = abs(0.9 - np.array(test_result['head_error_list']).mean(axis=0))\n",
    "\n",
    "    sr = np.argmin(mean) == np.argmin(radii)\n",
    "    sc = np.argmin(mean) == np.argmin(coverage)\n",
    "\n",
    "    set_and_radii.append(sr)\n",
    "    set_and_coverage.append(sc)\n",
    "\n",
    "print(f'sr = {sum(set_and_radii)/len(set_and_radii)}')\n",
    "print(f'sc = {sum(set_and_coverage)/len(set_and_coverage)}')\n",
    "\n",
    "# Leads us to believe that set loss isnt the best for coverage, although the coverages are very close."
   ]
  },
  {
   "cell_type": "code",
   "execution_count": 12,
   "metadata": {},
   "outputs": [],
   "source": [
    "class B_tACP(AdaptiveCP):\n",
    "    def ACI_head(self, timeseries_data: tuple, gamma: float, start_point: int, custom_interval = None):\n",
    "        xpred, y = timeseries_data\n",
    "        alpha_t_list = [self.coverage_target]\n",
    "\n",
    "        All_scores = self.score_function(xpred, y)\n",
    "\n",
    "        err_t_list = []\n",
    "        conformal_sets_list = []\n",
    "\n",
    "        # get pinball loss funciton\n",
    "        \n",
    "        \n",
    "        for i in range(start_point, len(All_scores)):\n",
    "            Coverage_t = self.C_t(alpha_t_list[-1], All_scores, xpred[i], i, custom_interval)\n",
    "            conformal_sets_list.append(Coverage_t)\n",
    "\n",
    "            # Finding Optimal B_t\n",
    "            # low, high = 0, 999  # Indices for np.linspace(1, 0, 1000)\n",
    "            # possibilities = np.linspace(1, 0, 1000)\n",
    "            # max_possi = 0.5  # Default value if no possi satisfies the condition\n",
    "\n",
    "            # while low <= high:\n",
    "            #     mid = (low + high) // 2\n",
    "            #     possi = possibilities[mid]\n",
    "            #     Cpossi = self.C_t(possi, All_scores, xpred[i], i, custom_interval)\n",
    "            #     if Cpossi[0] < y[i] < Cpossi[1]:\n",
    "            #         max_possi = max(max_possi, possi)  # Update max_possi if current possi is greater\n",
    "            #         low = mid + 1  # Move to the right half to find the maximum possi\n",
    "            #     else:\n",
    "            #         high = mid - 1  # Move to the left half\n",
    "\n",
    "            # B_t = max_possi\n",
    "\n",
    "            # B_t = 0.5       # To avoid unbound local error will assign B_t a value first\n",
    "            # for possi in np.linspace(1, 0, 1000):\n",
    "            #     Cpossi= self.C_t(possi, All_scores, xpred[i], i, custom_interval)\n",
    "            #     if Cpossi[0] < y[i] < Cpossi[1]:\n",
    "            #         B_t = possi\n",
    "            #         break\n",
    "\n",
    "            low, high = 0, 999  # Indices for np.linspace(1, 0, 1000)\n",
    "            possibilities = np.linspace(0, 1, 1000) # as 1 - \n",
    "\n",
    "            B_t = 1\n",
    "            while low <= high:\n",
    "                mid = (high + low) // 2\n",
    "                possi = possibilities[mid]\n",
    "                Cpossi = self.C_t(possi, All_scores, xpred[i], i, custom_interval)\n",
    "\n",
    "                if Cpossi[0] < y[i] < Cpossi[1]:\n",
    "                    B_t = possi\n",
    "                    low = mid + 1\n",
    "                else:\n",
    "                    high = mid - 1\n",
    "                    \n",
    "            \n",
    "            pinball_loss = self.l(B_t, alpha_t_list[-1])\n",
    "\n",
    "            error_t = AdaptiveCP.err_t(y[i], Coverage_t)\n",
    "            err_t_list.append(error_t)\n",
    "\n",
    "            alpha_t = min(max(alpha_t_list[-1] + (gamma * (self.coverage_target - error_t)), 0), 1)\n",
    "            alpha_t_list.append(alpha_t)\n",
    "\n",
    "            \n",
    "            yield Coverage_t, pinball_loss, B_t\n",
    "\n",
    "\n",
    "        return False\n",
    "    \n",
    "    def AwACI(self, timeseries_data: tuple, interval_candidates: np.array = None, nu_sigma: tuple = (10**-3, 0.05), gamma: float = 0.05, title: str = None):\n",
    "        \n",
    "        xpred, y = timeseries_data\n",
    "\n",
    "        chosen_interval_index = []\n",
    "        err_t_list = []\n",
    "        conformal_sets_list = []\n",
    "        optimal_radius_list = []\n",
    "        chosen_radius_list = []\n",
    "\n",
    "        # Extras.\n",
    "        set_loss_list = []\n",
    "        head_radii_list = []\n",
    "        head_error_list = []\n",
    "        all_pinball_losses = []\n",
    "        all_B_t = []\n",
    "\n",
    "\n",
    "        Set_loss = self.set_loss_vectorize()\n",
    "\n",
    "\n",
    "\n",
    "        # Scale parameters, havent looked into scaling them best.\n",
    "        sigma = nu_sigma[1]\n",
    "        nu = nu_sigma[0] \n",
    "\n",
    "        if interval_candidates is None:\n",
    "            interval_candidates = np.array(range(50, 550, 100))\n",
    "\n",
    "        # To sync all of the heads we need to start at the max of all the candidates.\n",
    "        start_point = max(interval_candidates) + 1\n",
    "        i_count = start_point\n",
    "\n",
    "        # Create the head and intitialse the weights.\n",
    "        ACI_heads = [self.ACI_head(timeseries_data, gamma, start_point, interval) for interval in interval_candidates]\n",
    "        interval_weights = np.array([1 for _ in range(len(interval_candidates))])\n",
    "        \n",
    "        # Continues calculating intervals until one of the heads stops.\n",
    "        none_terminated = True\n",
    "\n",
    "        while none_terminated: \n",
    "            head_sets = [] # Will contain the result from each head.\n",
    "            pinball_losses = []\n",
    "            B_t_list = []\n",
    "            \n",
    "            # Create the mass distribution for each head\n",
    "            Wt = interval_weights.sum()\n",
    "            interval_probabilites = interval_weights/Wt\n",
    "        \n",
    "            try:\n",
    "                # Create a list of the coverages for the different heads.\n",
    "                for head in ACI_heads:\n",
    "                        pred_set, pinball_loss, B_t = next(head)\n",
    "                        head_sets.append(pred_set)\n",
    "                        pinball_losses.append(pinball_loss)\n",
    "                        B_t_list.append(B_t)\n",
    "            \n",
    "            except StopIteration: # One head is terminated.\n",
    "                none_terminated = False\n",
    "                break # You could but the return statement here\n",
    "            \n",
    "            all_pinball_losses.append(pinball_losses)\n",
    "            all_B_t.append(B_t_list)\n",
    "\n",
    "            # Choosing which head to use.\n",
    "            chosen_set = random.choices(head_sets, weights=interval_probabilites, k=1)[0] # Using random module as numpy can not deal with tuples.\n",
    "            conformal_sets_list.append(chosen_set)\n",
    "            chosen_interval_index.append(head_sets.index(chosen_set))\n",
    "\n",
    "\n",
    "\n",
    "            # TIME FRONTIER -------------\n",
    "\n",
    "            # Seeing whether result lies within the set.\n",
    "            err_true = AdaptiveCP.err_t(y[i_count], chosen_set)\n",
    "\n",
    "            head_err = [AdaptiveCP.err_t(y[i_count], head_set) for head_set in head_sets]\n",
    "            head_error_list.append(head_err)\n",
    "\n",
    "            err_t_list.append(err_true)\n",
    "\n",
    "            # Computing the conformal set radi. \n",
    "            optimal_set_radius = abs(y[i_count] - y[i_count-1]) \n",
    "            head_set_radius = list(map(lambda Cset: (Cset[1] - Cset[0])/2, head_sets)) #(chosen_set[1] - chosen_set[0])/2\n",
    "\n",
    "            optimal_radius_list.append(optimal_set_radius)\n",
    "            chosen_radius_list.append((chosen_set[1] - chosen_set[0])/2)\n",
    "\n",
    "            head_radii_list.append(head_set_radius)\n",
    "            head_set_radius = np.array(head_set_radius)\n",
    "\n",
    "            # Updating the weights.\n",
    "            set_loss = Set_loss(optimal_set_radius, head_set_radius)\n",
    "            set_loss_list.append(set_loss)\n",
    "\n",
    "            new_weights = interval_weights * np.exp(-1 * nu * set_loss) \n",
    "            sumW, lenW = sum(new_weights), len(new_weights)\n",
    "            final_weights = new_weights*(1-sigma) + sumW*(sigma/lenW)\n",
    "            interval_weights = final_weights\n",
    "\n",
    "            # Incrementing the i-count\n",
    "            i_count+=1\n",
    "\n",
    "        # Calculating different averages\n",
    "        realised_interval_coverage = 1 - pd.Series(err_t_list).rolling(50).mean().mean() # 50 is arbitary and could be improved.\n",
    "        average_prediction_interval = np.mean([abs(x[1] - x[0]) for x in conformal_sets_list])\n",
    "\n",
    "        return {\n",
    "                'model': title if title is not None else 'AwACI',\n",
    "                'coverage_target': self.coverage_target,\n",
    "                'interval_candidates': interval_candidates,\n",
    "                'realised_interval_coverage': realised_interval_coverage,\n",
    "                'average_prediction_interval': average_prediction_interval,\n",
    "                'optimal_set_radius': optimal_radius_list, \n",
    "                'chosen_set_radius': chosen_radius_list,\n",
    "                'conformal_sets': conformal_sets_list,\n",
    "                'error_t_list': err_t_list,\n",
    "                'chosen_interval_index': chosen_interval_index,\n",
    "                'start_point': start_point,\n",
    "                'interval_size': 50,\n",
    "                'set_loss_list': set_loss_list,\n",
    "                'head_radii_list': head_radii_list,\n",
    "                'head_error_list': head_error_list,\n",
    "                'all_pinball_losses': all_pinball_losses,\n",
    "                'all_B_t': all_B_t\n",
    "\n",
    "                }\n",
    "            \n",
    "    \n",
    "    "
   ]
  },
  {
   "cell_type": "code",
   "execution_count": 13,
   "metadata": {},
   "outputs": [],
   "source": [
    "BACP = B_tACP(0.1)\n",
    "test_result = BACP.AwACI(stock_data[4])"
   ]
  },
  {
   "cell_type": "code",
   "execution_count": 14,
   "metadata": {},
   "outputs": [
    {
     "name": "stdout",
     "output_type": "stream",
     "text": [
      "dict_keys(['model', 'coverage_target', 'interval_candidates', 'realised_interval_coverage', 'average_prediction_interval', 'optimal_set_radius', 'chosen_set_radius', 'conformal_sets', 'error_t_list', 'chosen_interval_index', 'start_point', 'interval_size', 'set_loss_list', 'head_radii_list', 'head_error_list', 'all_pinball_losses', 'all_B_t'])\n"
     ]
    }
   ],
   "source": [
    "print(test_result.keys())"
   ]
  },
  {
   "cell_type": "code",
   "execution_count": 15,
   "metadata": {},
   "outputs": [
    {
     "name": "stdout",
     "output_type": "stream",
     "text": [
      "[0.53225313 0.54754755 0.56893817 0.57975338 0.58384098]\n"
     ]
    }
   ],
   "source": [
    "print(np.array(test_result['all_B_t']).mean(axis=0))"
   ]
  },
  {
   "cell_type": "code",
   "execution_count": 16,
   "metadata": {},
   "outputs": [
    {
     "name": "stdout",
     "output_type": "stream",
     "text": [
      "[0.8989011  0.9010989  0.90549451 0.90769231 0.90769231]\n"
     ]
    }
   ],
   "source": [
    "# Getting the average coverage of each head.\n",
    "head_error_list = np.array(test_result['head_error_list'])\n",
    "print(1- head_error_list.mean(axis=0))\n"
   ]
  },
  {
   "cell_type": "code",
   "execution_count": 17,
   "metadata": {},
   "outputs": [
    {
     "name": "stdout",
     "output_type": "stream",
     "text": [
      "[[np.float64(0.012822822822822821), np.float64(0.02903903903903904), np.float64(0.024534534534534535), np.float64(0.01802802802802803), np.float64(0.02033033033033033)], [np.float64(0.04825875875875876), np.float64(0.057968468468468475), np.float64(0.05546596596596597), np.float64(0.05006056056056057), np.float64(0.05146196196196197)], [np.float64(0.087998998998999), np.float64(0.087998998998999), np.float64(0.087998998998999), np.float64(0.0877987987987988), np.float64(0.0880990990990991)], [np.float64(0.0863828828828829), np.float64(0.00161311311311311), np.float64(0.0004119119119119094), np.float64(0.01881531531531533), np.float64(0.006202702702702715)], [np.float64(0.07257957957957957), np.float64(0.07058258258258258), np.float64(0.06948148148148148), np.float64(0.07147847847847848), np.float64(0.07147847847847848)], [np.float64(0.0866941941941942), np.float64(0.0831956956956957), np.float64(0.0832957957957958), np.float64(0.08749499499499501), np.float64(0.08779529529529528)], [np.float64(0.019827827827827826), np.float64(0.03584884884884885), np.float64(0.031844844844844844), np.float64(0.030538538538538537), np.float64(0.03163963963963964)], [np.float64(0.031239739739739737), np.float64(0.044357857857857855), np.float64(0.039853353353353355), np.float64(0.03734584584584585), np.float64(0.03844694694694695)], [np.float64(0.007216216216216215), np.float64(0.020734734734734733), np.float64(0.01803203203203203), np.float64(0.017026026026026025), np.float64(0.018627627627627624)], [np.float64(0.03865315315315318), np.float64(0.00021471471471470882), np.float64(0.0013158158158158102), np.float64(0.0024119119119119085), np.float64(0.00421371371371371)], [np.float64(0.0825875875875876), np.float64(0.07599099099099099), np.float64(0.0775925925925926), np.float64(0.08149149149149149), np.float64(0.08229229229229229)], [np.float64(0.020726226226226222), np.float64(0.027543043043043038), np.float64(0.02634184184184184), np.float64(0.024134634634634635), np.float64(0.024735235235235232)], [np.float64(0.04228828828828831), np.float64(0.0845405405405406), np.float64(0.07643243243243249), np.float64(0.048549549549549584), np.float64(0.04314414414414418)], [np.float64(0.06566716716716717), np.float64(0.06087237237237238), np.float64(0.06147297297297297), np.float64(0.06026676676676676), np.float64(0.06166816816816816)], [np.float64(0.07297497497497497), np.float64(0.06808008008008007), np.float64(0.06948148148148148), np.float64(0.07027727727727727), np.float64(0.07047747747747747)], [np.float64(0.0922947947947948), np.float64(0.0838963963963964), np.float64(0.08379629629629629), np.float64(0.08899649649649649), np.float64(0.089496996996997)], [np.float64(0.03293593593593593), np.float64(0.039052052052052054), np.float64(0.037850850850850846), np.float64(0.03454254254254254), np.float64(0.035043043043043044)], [np.float64(0.024427927927927924), np.float64(0.02854204204204204), np.float64(0.02974324324324324), np.float64(0.02703553553553553), np.float64(0.027135635635635636)], [np.float64(0.05055455455455456), np.float64(0.04906306306306306), np.float64(0.04936336336336336), np.float64(0.047056056056056055), np.float64(0.04795695695695695)], [np.float64(0.029433933933933933), np.float64(0.032947447447447445), np.float64(0.033948448448448444), np.float64(0.03043993993993993), np.float64(0.03114064064064064)], [np.float64(0.02673173173173173), np.float64(0.029044044044044037), np.float64(0.03034534534534534), np.float64(0.027137137137137137), np.float64(0.02733733733733733)], [np.float64(0.02723273273273273), np.float64(0.02824374374374374), np.float64(0.030345845845845838), np.float64(0.02703753753753753), np.float64(0.026937437437437428)], [np.float64(0.03958558558558562), np.float64(0.09445045045045052), np.float64(0.08183783783783792), np.float64(0.05215315315315322), np.float64(0.05215315315315322)], [np.float64(0.05445595595595596), np.float64(0.04835985985985985), np.float64(0.04866016016016015), np.float64(0.044450950950950946), np.float64(0.04385035035035034)], [0.098, 0.088, 0.088, 0.093, 0.093], [np.float64(0.04464464464464465), np.float64(0.04535285285285284), np.float64(0.045452952952952944), np.float64(0.04124374374374374), np.float64(0.04034284284284284)], [np.float64(0.013413913913913915), np.float64(0.015223223223223215), np.float64(0.015923923923923916), np.float64(0.016219219219219216), np.float64(0.016919919919919917)], [np.float64(0.08038138138138139), np.float64(0.07648498498498497), np.float64(0.07808658658658658), np.float64(0.07848198198198197), np.float64(0.07898248248248248)], [np.float64(0.023124624624624626), np.float64(0.02643543543543543), np.float64(0.027836836836836833), np.float64(0.024828828828828822), np.float64(0.02462862862862862)], [np.float64(0.026328328328328328), np.float64(0.031040540540540534), np.float64(0.03304254254254254), np.float64(0.02953403403403403), np.float64(0.028332832832832822)], [np.float64(0.0028053053053053046), np.float64(0.02603603603603612), np.float64(0.02063063063063071), np.float64(0.0011061061061060987), np.float64(0.0004054054054053985)], [np.float64(0.002405405405405405), np.float64(0.0016071071071070983), np.float64(0.001707207207207199), np.float64(0.0005060060060059984), np.float64(0.0017522522522523231)], [np.float64(0.021224724724724725), np.float64(0.022228228228228224), np.float64(0.02262862862862862), np.float64(0.016922922922922915), np.float64(0.021522522522522517)], [np.float64(0.06617017017017017), np.float64(0.060867367367367364), np.float64(0.06066716716716716), np.float64(0.05345995995995996), np.float64(0.05605755755755755)], [np.float64(0.05165615615615615), np.float64(0.05025725725725725), np.float64(0.04775475475475475), np.float64(0.039246246246246244), np.float64(0.042144144144144136)], [np.float64(0.011716716716716716), np.float64(0.013320820820820811), np.float64(0.013320820820820811), np.float64(0.008816316316316306), np.float64(0.012615115115115108)], [np.float64(0.06977527527527527), np.float64(0.06166966966966966), np.float64(0.06106906906906906), np.float64(0.053861861861861864), np.float64(0.057760760760760754)], [np.float64(0.05636236236236236), np.float64(0.05296146146146146), np.float64(0.050959459459459455), np.float64(0.04335185185185184), np.float64(0.045749249249249245)], [np.float64(0.08429079079079078), np.float64(0.07978878878878878), np.float64(0.0815905905905906), np.float64(0.07858758758758759), np.float64(0.0835875875875876)], [np.float64(0.07167867867867868), np.float64(0.06297247247247247), np.float64(0.06357307307307307), np.float64(0.05606556556556556), np.float64(0.060364864864864864)], [np.float64(0.07508258258258259), np.float64(0.06887887887887888), np.float64(0.07108108108108108), np.float64(0.06387387387387387), np.float64(0.06867367367367368)], [np.float64(0.04475275275275275), np.float64(0.044354854854854846), np.float64(0.04275325325325324), np.float64(0.03524574574574574), np.float64(0.038043543543543536)], [np.float64(0.08809659659659659), np.float64(0.08599699699699699), np.float64(0.0865975975975976), np.float64(0.08679779779779778), np.float64(0.0918978978978979)], [np.float64(0.034153153153153204), np.float64(0.04584234234234246), np.float64(0.04404054054054066), np.float64(0.05124774774774787), np.float64(0.011653153153153243)], [np.float64(0.08118568568568568), np.float64(0.07548248248248246), np.float64(0.07648348348348347), np.float64(0.07207907907907907), np.float64(0.07657857857857857)], [np.float64(0.08679179179179179), np.float64(0.0830905905905906), np.float64(0.08479229229229229), np.float64(0.08419169169169168), np.float64(0.08939189189189188)], [np.float64(0.04465015015015015), np.float64(0.045153153153153144), np.float64(0.043851851851851836), np.float64(0.03724524524524524), np.float64(0.04024324324324324)], [np.float64(0.006512512512512509), np.float64(0.0052137137137137), np.float64(0.0051136136136135995), np.float64(0.002911411411411398), np.float64(0.006710210210210201)], [np.float64(0.060967467467467465), np.float64(0.05806706706706706), np.float64(0.05686586586586587), np.float64(0.050559559559559555), np.float64(0.05335735735735734)], [np.float64(0.021628628628628622), np.float64(0.024734234234234223), np.float64(0.026235735735735722), np.float64(0.02022972972972972), np.float64(0.02332782782782782)], [np.float64(0.0872947947947948), np.float64(0.0854954954954955), np.float64(0.08609609609609609), np.float64(0.085995995995996), np.float64(0.09109609609609609)], [np.float64(0.06927727727727727), np.float64(0.06887937937937937), np.float64(0.07108158158158158), np.float64(0.06617667667667666), np.float64(0.07037587587587586)], [np.float64(0.04545395395395394), np.float64(0.042553553553553544), np.float64(0.042553553553553544), np.float64(0.03604704704704703), np.float64(0.037643643643643636)], [np.float64(0.07688588588588588), np.float64(0.07368518518518517), np.float64(0.07598748748748747), np.float64(0.07218368368368366), np.float64(0.07638288288288286)], [np.float64(0.01732682682682682), np.float64(0.022834834834834818), np.float64(0.02443643643643642), np.float64(0.019131131131131116), np.float64(0.02122822822822822)], [np.float64(0.06457457457457456), np.float64(0.06307557557557555), np.float64(0.06497747747747747), np.float64(0.05877127127127127), np.float64(0.06327077077077076)], [np.float64(0.009620120120120111), np.float64(0.010423423423423407), np.float64(0.013426426426426408), np.float64(0.009622622622622607), np.float64(0.01292092092092091)], [np.float64(0.05046146146146146), np.float64(0.046159659659659645), np.float64(0.04786136136136135), np.float64(0.04115465465465464), np.float64(0.042651151151151145)], [np.float64(0.07628778778778778), np.float64(0.07258658658658657), np.float64(0.07388788788788787), np.float64(0.07048448448448445), np.float64(0.07478378378378377)], [np.float64(0.03174374374374374), np.float64(0.033447947947947934), np.float64(0.03665115115115113), np.float64(0.031145645645645627), np.float64(0.03244194194194193)], [np.float64(0.07728978978978979), np.float64(0.07358858858858856), np.float64(0.07529029029029027), np.float64(0.07298798798798799), np.float64(0.07748748748748747)], [np.float64(0.04285585585585584), np.float64(0.04165715715715714), np.float64(0.044459959959959945), np.float64(0.03755305305305304), np.float64(0.03874924924924924)], [np.float64(0.05877227227227227), np.float64(0.05697297297297295), np.float64(0.059675675675675666), np.float64(0.05376976976976975), np.float64(0.05746846846846845)], [np.float64(0.011525525525525515), np.float64(0.01733383383383381), np.float64(0.021538038038038016), np.float64(0.01633283283283281), np.float64(0.017328828828828812)], [np.float64(0.07879329329329328), np.float64(0.07278978978978977), np.float64(0.07409109109109106), np.float64(0.07409109109109106), np.float64(0.07859059059059058)], [np.float64(0.06608108108108107), np.float64(0.06508258258258258), np.float64(0.06768518518518517), np.float64(0.06468218218218216), np.float64(0.06848098098098097)], [np.float64(0.014274774774774898), np.float64(0.0016396396396398255), np.float64(0.0047227227227227), np.float64(0.0016196196196195973), np.float64(0.004417417417417399)], [np.float64(0.06267367367367367), np.float64(0.06077427427427426), np.float64(0.05927777777777776), np.float64(0.05447297297297296), np.float64(0.057571071071071046)], [np.float64(0.06617767767767767), np.float64(0.06467867867867866), np.float64(0.06218118118118117), np.float64(0.058777777777777755), np.float64(0.06227627627627626)], [np.float64(0.06808008008008007), np.float64(0.06688138138138136), np.float64(0.06348298298298297), np.float64(0.060379879879879854), np.float64(0.06457907907907905)], [np.float64(0.06758008008008007), np.float64(0.06638138138138136), np.float64(0.06328328328328325), np.float64(0.060380380380380363), np.float64(0.06457957957957956)], [np.float64(0.04132432432432446), np.float64(0.07913963963963984), np.float64(0.11242792792792813), np.float64(0.11783333333333355), np.float64(0.08724774774774792)], [np.float64(0.010619119119119107), np.float64(0.0092202202202202), np.float64(0.008924924924924901), np.float64(0.006122122122122101), np.float64(0.008119119119119101)], [np.float64(0.044553553553553546), np.float64(0.04805955955955954), np.float64(0.04596246246246244), np.float64(0.03925575575575573), np.float64(0.040552052052052034)], [np.float64(0.06467417417417416), np.float64(0.06727927927927926), np.float64(0.06418118118118116), np.float64(0.06157857857857855), np.float64(0.06517717717717716)], [np.float64(0.08759759759759758), np.float64(0.08239489489489488), np.float64(0.07819569569569568), np.float64(0.07829579579579576), np.float64(0.08279529529529528)], [np.float64(0.03594644644644643), np.float64(0.04225525525525523), np.float64(0.04236036036036033), np.float64(0.03565365365365363), np.float64(0.036949949949949934)], [np.float64(0.028939939939939926), np.float64(0.03815165165165163), np.float64(0.038056556556556535), np.float64(0.032150650650650626), np.float64(0.03304654654654653)], [np.float64(0.007519019019019003), np.float64(0.009023023023023), np.float64(0.011030030030030006), np.float64(0.007326326326326302), np.float64(0.008922922922922903)], [np.float64(0.05586786786786786), np.float64(0.06077527527527526), np.float64(0.059679179179179156), np.float64(0.05577527527527525), np.float64(0.05947397397397395)], [np.float64(0.08009259259259259), np.float64(0.07509009009009007), np.float64(0.07169169169169166), np.float64(0.07169169169169166), np.float64(0.07669169169169167)], [np.float64(0.03772072072072088), np.float64(0.017878378378378596), np.float64(0.012427927927928174), np.float64(0.028644144144144373), np.float64(0.006166666666666873)], [np.float64(0.04767117117117131), np.float64(0.047648648648648866), np.float64(0.052108108108108335), np.float64(0.06562162162162186), np.float64(0.032333333333333526)], [np.float64(0.0016056056056055904), np.float64(0.00010660660660658379), np.float64(0.0008123123123122884), np.float64(0.00710360360360382), np.float64(0.0025090090090089893)], [np.float64(0.04935385385385384), np.float64(0.057164164164164144), np.float64(0.05606806806806805), np.float64(0.05756456456456454), np.float64(0.05456156156156155)], [np.float64(0.023328328328328315), np.float64(0.03354104104104102), np.float64(0.03734984984984983), np.float64(0.03834584584584583), np.float64(0.03394144144144142)], [np.float64(0.011817317317317303), np.float64(0.014022022022021999), np.float64(0.015728728728728707), np.float64(0.017325325325325304), np.float64(0.014422422422422402)], [np.float64(0.09049649649649649), np.float64(0.08749599599599599), np.float64(0.08289639639639639), np.float64(0.08749599599599599), np.float64(0.08729579579579577)], [np.float64(0.08338988988988988), np.float64(0.08028928928928927), np.float64(0.07719119119119117), np.float64(0.08239139139139136), np.float64(0.08249149149149149)], [np.float64(0.05235935935935934), np.float64(0.06097047047047044), np.float64(0.06097547547547545), np.float64(0.06357307307307306), np.float64(0.06177127127127126)], [np.float64(0.020528028028028014), np.float64(0.02573573573573571), np.float64(0.030045045045045016), np.float64(0.03184184184184182), np.float64(0.027637637637637616)], [np.float64(0.046854854854854834), np.float64(0.05606656656656655), np.float64(0.05647197197197195), np.float64(0.05946996996996994), np.float64(0.056667167167167146)], [np.float64(0.00020870870870868947), np.float64(0.012513513513513753), np.float64(0.005261261261261518), np.float64(0.0028138138138137873), np.float64(0.0006116116116115872)], [np.float64(0.07469369369369387), np.float64(0.0305720720720723), np.float64(0.04404054054054078), np.float64(0.045842342342342586), np.float64(0.05665315315315338)], [np.float64(0.018422922922922906), np.float64(0.021623623623623602), np.float64(0.025532532532532504), np.float64(0.022229229229229208), np.float64(0.018825825825825804)], [0.09499999999999999, np.float64(0.02250000000000022), np.float64(0.06750000000000024), np.float64(0.06750000000000024), np.float64(0.06750000000000021)], [np.float64(0.054354854854854834), np.float64(0.05905905905905906), np.float64(0.06116416416416414), np.float64(0.05796096096096094), np.float64(0.05445745745745744)], [np.float64(0.00690790790790789), np.float64(0.0068073073073073075), np.float64(0.008812312312312288), np.float64(0.0077112112112111865), np.float64(0.0059094094094093875)], [np.float64(0.042143643643643626), np.float64(0.04884984984984985), np.float64(0.05315715715715713), np.float64(0.04935335335335333), np.float64(0.04474874874874873)], [np.float64(0.057259259259259246), np.float64(0.06626776776776777), np.float64(0.06737187187187185), np.float64(0.06657107107107105), np.float64(0.06296746746746744)], [np.float64(0.05375625625625624), np.float64(0.06326526526526526), np.float64(0.06537037037037034), np.float64(0.06456956956956954), np.float64(0.06026526526526524)], [np.float64(0.038341341341341324), np.float64(0.04474724724724725), np.float64(0.050055555555555534), np.float64(0.04725275275275273), np.float64(0.04244794794794793)], [np.float64(0.08438788788788787), np.float64(0.08228528528528528), np.float64(0.08078678678678676), np.float64(0.08008608608608607), np.float64(0.07828428428428426)], [np.float64(0.09319719719719718), np.float64(0.089492992992993), np.float64(0.08729379379379376), np.float64(0.08789439439439438), np.float64(0.08719369369369367)], [np.float64(0.04244694694694693), np.float64(0.04765165165165165), np.float64(0.05195895895895894), np.float64(0.04885585585585583), np.float64(0.04355055055055053)], [np.float64(0.05295795795795795), np.float64(0.06086536536536537), np.float64(0.06257007007007004), np.float64(0.06196946946946944), np.float64(0.057665165165165136)], [np.float64(0.02553103103103101), np.float64(0.028333333333333335), np.float64(0.03564364364364361), np.float64(0.03424224224224221), np.float64(0.029837837837837812)], [np.float64(0.08128728728728728), np.float64(0.08058608608608608), np.float64(0.07958808808808807), np.float64(0.07998848848848847), np.float64(0.07858708708708706)], [np.float64(0.07908558558558558), np.float64(0.0795855855855856), np.float64(0.07878778778778776), np.float64(0.07918818818818817), np.float64(0.07758658658658657)], [np.float64(0.04575275275275273), np.float64(0.05285935935935935), np.float64(0.05426376376376373), np.float64(0.054564064064064034), np.float64(0.050059559559559534)], [np.float64(0.011819319319319298), np.float64(0.009816816816816813), np.float64(0.012922922922922893), np.float64(0.013423423423423392), np.float64(0.010720720720720693)], [np.float64(0.051059059059059046), np.float64(0.05756506506506506), np.float64(0.05846896896896894), np.float64(0.05906956956956954), np.float64(0.05446496496496494)], [np.float64(0.03654504504504502), np.float64(0.043251251251251246), np.float64(0.046157157157157125), np.float64(0.04555655655655653), np.float64(0.04005105105105103)], [np.float64(0.08038938938938937), np.float64(0.07988838838838838), np.float64(0.07778928928928926), np.float64(0.07859009009009006), np.float64(0.07788938938938936)], [np.float64(0.024133633633633605), np.float64(0.03214114114114114), np.float64(0.03664864864864861), np.float64(0.03644844844844842), np.float64(0.03104304304304302)], [np.float64(0.018828828828829053), np.float64(0.01973423423423428), np.float64(0.020608108108108404), np.float64(0.013400900900901198), np.float64(0.033220720720721)], [np.float64(0.04955505505505504), np.float64(0.05435935935935935), np.float64(0.05486286286286284), np.float64(0.05626426426426423), np.float64(0.051559559559559535)], [np.float64(0.08969569569569567), np.float64(0.0870925925925926), np.float64(0.08459309309309307), np.float64(0.08539389389389387), np.float64(0.08479329329329327)], [np.float64(0.011017517517517493), np.float64(0.00901501501501501), np.float64(0.011220220220220187), np.float64(0.01252152152152149), np.float64(0.009018018018017987)], [np.float64(0.037244244244244225), np.float64(0.04274924924924925), np.float64(0.04495445445445442), np.float64(0.046255755755755724), np.float64(0.03954904904904902)], [np.float64(0.07278028028028026), np.float64(0.07197897897897897), np.float64(0.07158158158158155), np.float64(0.07308308308308306), np.float64(0.07018018018018016)], [np.float64(0.02253053053053051), np.float64(0.024732232232232226), np.float64(0.02843893893893891), np.float64(0.031341841841841814), np.float64(0.025736236236236207)], [np.float64(0.06957807807807805), np.float64(0.06917717717717718), np.float64(0.06807907907907905), np.float64(0.07008108108108106), np.float64(0.06667767767767765)], [np.float64(0.06297197197197195), np.float64(0.061570070070070065), np.float64(0.06197347347347344), np.float64(0.06437587587587584), np.float64(0.059671171171171135)], [np.float64(0.04034984984984982), np.float64(0.04475375375375375), np.float64(0.04595795795795793), np.float64(0.04785985985985983), np.float64(0.04185385385385382)], [np.float64(0.016226226226226197), np.float64(0.020129629629629622), np.float64(0.024537037037037), np.float64(0.02733983983983981), np.float64(0.022434934934934904)], [np.float64(0.04475525525525523), np.float64(0.04765765765765765), np.float64(0.048761761761761724), np.float64(0.04976276276276273), np.float64(0.04485785785785782)], [np.float64(0.02593693693693691), np.float64(0.03074124124124123), np.float64(0.03484834834834832), np.float64(0.03594944944944941), np.float64(0.02984334334334331)], [np.float64(0.024335835835835807), np.float64(0.027138138138138132), np.float64(0.03274674674674671), np.float64(0.033947947947947914), np.float64(0.028442442442442407)], [np.float64(0.020032032032032007), np.float64(0.022934434434434426), np.float64(0.02834284284284281), np.float64(0.03034484484484481), np.float64(0.025239739739739704)], [np.float64(0.001213713713713685), np.float64(0.0008128128128128021), np.float64(0.0023173173173172803), np.float64(0.003318318318318281), np.float64(0.00011511511511508034)], [np.float64(0.021234234234234206), np.float64(0.022334834834834824), np.float64(0.026542042042042004), np.float64(0.02884434434434431), np.float64(0.024039539539539502)], [np.float64(0.05206556556556555), np.float64(0.05116416416416415), np.float64(0.04996596596596593), np.float64(0.05166766766766763), np.float64(0.04666266266266263)], [np.float64(0.04445845845845844), np.float64(0.04736086086086086), np.float64(0.046362862862862834), np.float64(0.048264764764764725), np.float64(0.04325975975975972)], [np.float64(0.05226676676676674), np.float64(0.05336736736736736), np.float64(0.051768768768768736), np.float64(0.053670670670670634), np.float64(0.048365365365365336)], [np.float64(0.07058558558558557), np.float64(0.07188638638638638), np.float64(0.06828578578578574), np.float64(0.06978728728728725), np.float64(0.06658408408408405)], [np.float64(0.049865365365365344), np.float64(0.052067067067067055), np.float64(0.05106906906906903), np.float64(0.053071071071071035), np.float64(0.04766566566566563)], [np.float64(0.012928928928928897), np.float64(0.020936436436436424), np.float64(0.025744244244244208), np.float64(0.027445945945945904), np.float64(0.022941441441441404)], [np.float64(0.06638288288288285), np.float64(0.06608208208208208), np.float64(0.06258158158158154), np.float64(0.06458358358358356), np.float64(0.061380380380380344)], [np.float64(0.04516216216216213), np.float64(0.04786436436436436), np.float64(0.04716666666666663), np.float64(0.049268768768768734), np.float64(0.04436386386386383)], [np.float64(0.0156331331331331), np.float64(0.022839839839839827), np.float64(0.026346346346346305), np.float64(0.027947947947947905), np.float64(0.023043043043043006)], [np.float64(0.07289089089089085), np.float64(0.06938688688688686), np.float64(0.06578628628628624), np.float64(0.06758808808808806), np.float64(0.06488538538538534)], [np.float64(0.005238738738739049), np.float64(0.00792592592592591), np.float64(0.012933933933933892), np.float64(0.015636636636636597), np.float64(0.011732732732732693)], [np.float64(0.06397797797797794), np.float64(0.05647497497497496), np.float64(0.05417567567567564), np.float64(0.056878378378378336), np.float64(0.05257407407407403)], [np.float64(0.047962462462462434), np.float64(0.045764764764764744), np.float64(0.04526726726726722), np.float64(0.046668668668668624), np.float64(0.04226426426426422)], [np.float64(0.038603603603603896), np.float64(0.0011206206206206021), np.float64(0.003826326326326282), np.float64(0.005427927927927881), np.float64(0.0019244244244243814)], [np.float64(0.046757257257257226), np.float64(0.04186186186186185), np.float64(0.04176476476476472), np.float64(0.04296596596596593), np.float64(0.03916216216216212)], [np.float64(0.07318418418418415), np.float64(0.06278328328328327), np.float64(0.060083583583583546), np.float64(0.06138488488488484), np.float64(0.05808158158158155)], [np.float64(0.04515665665665663), np.float64(0.04126226226226224), np.float64(0.04136536536536533), np.float64(0.04276676676676672), np.float64(0.03856256256256252)], [np.float64(0.06357557557557554), np.float64(0.05297447447447445), np.float64(0.051776276276276234), np.float64(0.05367817817817814), np.float64(0.049473973973973934)], [np.float64(0.027239739739739706), np.float64(0.02875075075075073), np.float64(0.030155155155155114), np.float64(0.03225725725725721), np.float64(0.02775275275275271)], [np.float64(0.09447747747747778), np.float64(0.08988738738738755), np.float64(0.08895945945945985), np.float64(0.07274324324324366), np.float64(0.09166216216216258)], [np.float64(0.06257107107107104), np.float64(0.05317117117117115), np.float64(0.052473473473473434), np.float64(0.05457557557557553), np.float64(0.050471471471471435)], [0.09099999999999997, np.float64(0.15839189189189207), np.float64(0.188094594594595), np.float64(0.188094594594595), np.float64(0.1871936936936941)], [np.float64(0.04204654654654652), np.float64(0.04035435435435433), np.float64(0.04155855855855852), np.float64(0.043460460460460426), np.float64(0.03995695695695692)], [np.float64(0.018873873873874167), np.float64(0.04221171171171188), np.float64(0.04849099099099138), np.float64(0.03587837837837876), np.float64(0.04939189189189228)], [np.float64(0.09449499499499497), np.float64(0.07958958958958957), np.float64(0.07588888888888884), np.float64(0.07678978978978974), np.float64(0.07478778778778775)], [np.float64(0.09679779779779776), np.float64(0.08139189189189187), np.float64(0.07719069069069065), np.float64(0.07749099099099095), np.float64(0.07679029029029025)], [np.float64(0.01942092092092089), np.float64(0.020031031031031016), np.float64(0.022236236236236193), np.float64(0.0262402402402402), np.float64(0.0236376376376376)], [np.float64(0.013815815815815783), np.float64(0.012824324324324305), np.float64(0.015329829829829786), np.float64(0.01953403403403399), np.float64(0.01653103103103099)], [np.float64(0.010513013013012981), np.float64(0.0062182182182182), np.float64(0.005520520520520478), np.float64(0.009724724724724682), np.float64(0.007322322322322278)], [np.float64(0.03483783783783781), np.float64(0.02944194194194192), np.float64(0.030045545545545504), np.float64(0.033348848848848804), np.float64(0.029545045045045005)], [np.float64(0.012516016016015985), np.float64(0.011024024024024005), np.float64(0.013529529529529486), np.float64(0.017333333333333287), np.float64(0.014230230230230187)], [np.float64(0.08879279279279276), np.float64(0.07468818818818816), np.float64(0.07048698698698695), np.float64(0.07218868868868865), np.float64(0.07058708708708704)], [np.float64(0.06797247247247244), np.float64(0.05376776776776775), np.float64(0.05286986986986983), np.float64(0.05577277277277273), np.float64(0.05196896896896892)], [np.float64(0.03624124124124121), np.float64(0.028643143143143125), np.float64(0.029647147147147102), np.float64(0.0336511511511511), np.float64(0.0298473473473473)], [np.float64(0.09229779779779776), np.float64(0.07749249249249247), np.float64(0.07219019019019014), np.float64(0.07299099099099095), np.float64(0.07279079079079075)], [np.float64(0.0298358358358358), np.float64(0.02413963963963962), np.float64(0.025343843843843795), np.float64(0.029648148148148104), np.float64(0.026444944944944895)], [np.float64(0.037243743743743715), np.float64(0.02834434434434432), np.float64(0.029648648648648603), np.float64(0.0343533533533533), np.float64(0.030449449449449408)], [np.float64(0.042279279279279595), np.float64(0.05840990990991012), np.float64(0.07730180180180224), np.float64(0.052076576576577015), np.float64(0.0628873873873878)], [np.float64(0.04374624624624621), np.float64(0.036148148148148124), np.float64(0.03665165165165161), np.float64(0.041056056056056014), np.float64(0.03705205205205201)], [np.float64(0.06366666666666664), np.float64(0.05096346346346345), np.float64(0.05026576576576572), np.float64(0.053769269269269226), np.float64(0.04986536536536532)], [np.float64(0.08558908908908906), np.float64(0.07128428428428427), np.float64(0.06828428428428424), np.float64(0.07018618618618615), np.float64(0.06828428428428424)], [np.float64(0.07858258258258255), np.float64(0.06347697697697695), np.float64(0.06237887887887883), np.float64(0.06388038038038034), np.float64(0.06197847847847843)], [np.float64(0.03994444444444441), np.float64(0.03144544544544542), np.float64(0.0338508508508508), np.float64(0.037854854854854805), np.float64(0.0339509509509509)], [np.float64(0.028783783783784114), np.float64(0.08365315315315337), np.float64(0.10074324324324369), np.float64(0.07371621621621666), np.float64(0.08272522522522566)], [np.float64(0.09939989989989988), np.float64(0.08609609609609609), np.float64(0.08049349349349345), np.float64(0.08149449449449446), np.float64(0.08089389389389386)], [np.float64(0.09889989989989988), np.float64(0.08689739739739738), np.float64(0.08229579579579575), np.float64(0.08229579579579575), np.float64(0.08199549549549545)], [np.float64(0.03944094094094091), np.float64(0.030741741741741713), np.float64(0.034048048048048), np.float64(0.03885285285285281), np.float64(0.0353493493493493)], [np.float64(0.08128328328328326), np.float64(0.07088238238238236), np.float64(0.06878328328328324), np.float64(0.07078528528528524), np.float64(0.06848298298298293)], [np.float64(0.04474724724724721), np.float64(0.040952952952952926), np.float64(0.043558558558558516), np.float64(0.04716216216216212), np.float64(0.04395895895895892)], [np.float64(0.07397697697697694), np.float64(0.06567817817817816), np.float64(0.06498048048048043), np.float64(0.06628178178178173), np.float64(0.06468018018018014)], [np.float64(0.08969319319319316), np.float64(0.07729029029029028), np.float64(0.07338938938938934), np.float64(0.07419019019019014), np.float64(0.07378978978978974)], [np.float64(0.01942342342342339), np.float64(0.015328828828828803), np.float64(0.020937437437437388), np.float64(0.0282447447447447), np.float64(0.026042542542542492)], [np.float64(0.05746196196196193), np.float64(0.049063063063063045), np.float64(0.05006706706706702), np.float64(0.05377077077077073), np.float64(0.05106806806806802)], [np.float64(0.006811811811811775), np.float64(0.00251701701701699), np.float64(0.002820320320320269), np.float64(0.009026526526526477), np.float64(0.0072247247247246744)], [np.float64(0.09399949949949947), np.float64(0.08149649649649648), np.float64(0.07669469469469464), np.float64(0.07709509509509505), np.float64(0.07679479479479474)], [np.float64(0.03744344344344341), np.float64(0.029144644644644613), np.float64(0.0318503503503503), np.float64(0.03745595595595591), np.float64(0.0343528528528528)], [np.float64(0.02012662662662659), np.float64(0.0156316316316316), np.float64(0.019538538538538486), np.float64(0.026845845845845796), np.float64(0.02484384384384379)], [np.float64(0.01131831831831828), np.float64(0.004921421421421393), np.float64(0.00572522522522517), np.float64(0.013633133133133078), np.float64(0.012031531531531478)], [np.float64(0.07888638638638634), np.float64(0.06908608608608606), np.float64(0.06588588588588583), np.float64(0.06758758758758754), np.float64(0.06678678678678673)], [np.float64(0.017225225225225183), np.float64(0.0090265265265265), np.float64(0.01143193193193188), np.float64(0.019540040040039983), np.float64(0.01883933933933929)], [np.float64(0.04485335335335331), np.float64(0.03455255255255253), np.float64(0.03575675675675671), np.float64(0.04096196196196192), np.float64(0.03865965965965961)], [np.float64(0.059768768768768736), np.float64(0.05167017017017014), np.float64(0.05137287287287282), np.float64(0.05457607607607602), np.float64(0.05337487487487483)], [np.float64(0.0035180180180183927), np.float64(0.06739639639639668), np.float64(0.07187387387387437), np.float64(0.020522522522523026), np.float64(0.03043243243243294)], [np.float64(0.08559059059059056), np.float64(0.07569019019019017), np.float64(0.07208958958958954), np.float64(0.07248998998998994), np.float64(0.07218968968968964)], [np.float64(0.030035535535535497), np.float64(0.02293793793793791), np.float64(0.02504304304304299), np.float64(0.031849849849849794), np.float64(0.03014814814814809)], [np.float64(0.027933933933933897), np.float64(0.020936436436436407), np.float64(0.02304154154154149), np.float64(0.029948448448448396), np.float64(0.027846346346346293)], [np.float64(0.05366016016016012), np.float64(0.04255855855855853), np.float64(0.04326226226226221), np.float64(0.04746646646646641), np.float64(0.04676576576576571)], [np.float64(0.06837537537537534), np.float64(0.06037687687687685), np.float64(0.05937887887887883), np.float64(0.06088038038038033), np.float64(0.06058008008008003)], [np.float64(0.06957707707707704), np.float64(0.06368068068068065), np.float64(0.06118118118118113), np.float64(0.06318318318318313), np.float64(0.06318318318318313)], [np.float64(0.09189989989989987), np.float64(0.08139889889889887), np.float64(0.07599649649649645), np.float64(0.07579629629629624), np.float64(0.07549599599599595)], [np.float64(0.020328828828828787), np.float64(0.014332332332332299), np.float64(0.016837837837837783), np.float64(0.024345345345345288), np.float64(0.023144144144144087)], [np.float64(0.06277177177177173), np.float64(0.05897747747747744), np.float64(0.05777927927927922), np.float64(0.05888038038038033), np.float64(0.059581081081081025)], [np.float64(0.06347297297297293), np.float64(0.061080080080080035), np.float64(0.05848048048048043), np.float64(0.060582582582582534), np.float64(0.06068268268268262)], [np.float64(0.05176176176176172), np.float64(0.05167117117117113), np.float64(0.050573073073073016), np.float64(0.05317567567567563), np.float64(0.05327577577577572)], [np.float64(0.04805855855855852), np.float64(0.04746746746746744), np.float64(0.04666966966966961), np.float64(0.04967267267267261), np.float64(0.05037337337337331)], [np.float64(0.003314314314314268), np.float64(0.00882432432432465), np.float64(0.005193693693694235), np.float64(0.007430930930930874), np.float64(0.00813163163163157)], [np.float64(0.06267417417417413), np.float64(0.06207807807807804), np.float64(0.06027927927927922), np.float64(0.05718118118118112), np.float64(0.05778178178178173)], [np.float64(0.026938938938938894), np.float64(0.022639139139139106), np.float64(0.024343843843843787), np.float64(0.025449949949949893), np.float64(0.025449949949949893)], [np.float64(0.002915415415415368), np.float64(0.004521521521521488), np.float64(0.0057257257257256645), np.float64(0.00833333333333327), np.float64(0.009734734734734674)], [np.float64(0.00501801801801797), np.float64(0.011128628628628593), np.float64(0.011932432432432374), np.float64(0.01534084084084078), np.float64(0.01624174174174168)], [np.float64(0.07098448448448444), np.float64(0.06878678678678675), np.float64(0.06468568568568563), np.float64(0.060886886886886815), np.float64(0.06158758758758753)], [np.float64(0.02143543543543539), np.float64(0.021339839839839808), np.float64(0.022243743743743688), np.float64(0.02274924924924919), np.float64(0.023850350350350286)], [np.float64(0.0017162162162161682), np.float64(0.00912812812812809), np.float64(0.01003203203203197), np.float64(0.013040040040039974), np.float64(0.01484184184184178)], [np.float64(0.04305805805805801), np.float64(0.045665165165165125), np.float64(0.0447672672672672), np.float64(0.04146896896896891), np.float64(0.043170670670670604)], [np.float64(0.03775325325325321), np.float64(0.03915915915915912), np.float64(0.0392622622622622), np.float64(0.0372652652652652), np.float64(0.038566566566566506)], [np.float64(0.0329489489489489), np.float64(0.030450950950950906), np.float64(0.03145495495495489), np.float64(0.030158658658658594), np.float64(0.031159659659659597)], [np.float64(0.07609259259259255), np.float64(0.07249349349349346), np.float64(0.06689089089089083), np.float64(0.061990990990990924), np.float64(0.062191191191191125)], [np.float64(0.0014184184184183686), np.float64(0.006728228228228193), np.float64(0.007632132132132066), np.float64(0.009739239239239174), np.float64(0.012542042042041979)], [np.float64(0.052870370370370325), np.float64(0.055077077077077034), np.float64(0.05247747747747742), np.float64(0.04897897897897891), np.float64(0.05078078078078072)], [np.float64(0.06137937937937933), np.float64(0.05998248248248244), np.float64(0.055781281281281216), np.float64(0.05268318318318313), np.float64(0.053784284284284216)], [np.float64(0.008727227227227172), np.float64(0.012535535535535495), np.float64(0.014140140140140079), np.float64(0.01454554554554548), np.float64(0.01664764764764758)], [np.float64(0.04536436436436432), np.float64(0.05097447447447443), np.float64(0.04887537537537531), np.float64(0.04607757757757751), np.float64(0.04767917917917912)], [np.float64(0.0019214214214213683), np.float64(0.004628628628628587), np.float64(0.00653353353353347), np.float64(0.008340340340340275), np.float64(0.011343343343343276)], [np.float64(0.04426426426426421), np.float64(0.05027477477477474), np.float64(0.04857607607607601), np.float64(0.045277777777777715), np.float64(0.047079579579579506)], [np.float64(0.09080630630630679), np.float64(0.015990990990991355), np.float64(0.0006486486486492416), np.float64(0.0023353353353352648), np.float64(0.005638638638638571)], [np.float64(0.047063063063063015), np.float64(0.05317367367367364), np.float64(0.050674174174174115), np.float64(0.043176676676676615), np.float64(0.045278778778778714)], [np.float64(0.07999649649649646), np.float64(0.07429529529529526), np.float64(0.06839239239239232), np.float64(0.05829229229229223), np.float64(0.05889289289289282)], [0.08299999999999995, np.float64(0.12322972972973009), np.float64(0.1322117117117123), np.float64(0.18527477477477539), np.float64(0.17086036036036098)], [np.float64(0.041654154154154105), np.float64(0.04646346346346343), np.float64(0.044164164164164105), np.float64(0.03666666666666659), np.float64(0.0391691691691691)], [np.float64(0.06557857857857852), np.float64(0.06227977977977975), np.float64(0.05937987987987982), np.float64(0.050080580580580514), np.float64(0.05218268268268261)], [np.float64(0.04956306306306301), np.float64(0.05427227227227224), np.float64(0.05317417417417412), np.float64(0.044875875875875805), np.float64(0.04727827827827821)], [0.08599999999999995, np.float64(0.15568918918918953), np.float64(0.17998648648648707), np.float64(0.25377027027027094), np.float64(0.2465630630630637)], [np.float64(0.08279229229229224), np.float64(0.07759159159159157), np.float64(0.07349049049049043), np.float64(0.06309009009009002), np.float64(0.06399099099099093)], [np.float64(0.047457457457457414), np.float64(0.05346796796796793), np.float64(0.05277027027027022), np.float64(0.04467217217217209), np.float64(0.047575075075074996)], [np.float64(0.02964014014014009), np.float64(0.030445445445445408), np.float64(0.0325505505505505), np.float64(0.026954954954954886), np.float64(0.029157157157157082)], [np.float64(0.04946046046046041), np.float64(0.05356906906906903), np.float64(0.05267117117117111), np.float64(0.044573073073073), np.float64(0.0470755755755755)], [np.float64(0.08839989989989985), np.float64(0.08389989989989988), np.float64(0.07969869869869864), np.float64(0.06919819819819813), np.float64(0.06889789789789783)], [np.float64(0.024136136136136084), np.float64(0.027644144144144102), np.float64(0.02964914914914908), np.float64(0.02365315315315308), np.float64(0.025855355355355276)], [np.float64(0.07668918918918914), np.float64(0.07339039039039034), np.float64(0.06898898898898893), np.float64(0.05868868868868862), np.float64(0.05978978978978971)], [np.float64(0.047060060060060006), np.float64(0.05267017017017013), np.float64(0.050871371371371314), np.float64(0.0427732732732732), np.float64(0.045576076076076)], [np.float64(0.08559909909909905), np.float64(0.08169969969969966), np.float64(0.07689789789789785), np.float64(0.06659759759759752), np.float64(0.06649749749749743)], [np.float64(0.06988388388388382), np.float64(0.06838688688688685), np.float64(0.06498648648648643), np.float64(0.05498648648648641), np.float64(0.05648798798798791)], [np.float64(0.04221171171171223), np.float64(0.0052342342342345995), np.float64(0.00462662662662656), np.float64(0.0009329329329328562), np.float64(0.003935935935935858)], [np.float64(0.06027027027027077), np.float64(0.03410360360360397), np.float64(0.05024774774774836), np.float64(0.09159909909909981), np.float64(0.06997747747747818)], [np.float64(0.08208758758758754), np.float64(0.07918918918918916), np.float64(0.07068868868868863), np.float64(0.06018818818818811), np.float64(0.061489489489489416)], [np.float64(0.03233833833833829), np.float64(0.03904954954954951), np.float64(0.036855355355355286), np.float64(0.030959459459459382), np.float64(0.03306156156156148)], [np.float64(0.03374024024024019), np.float64(0.042253253253253215), np.float64(0.03935835835835829), np.float64(0.03316216216216208), np.float64(0.03536436436436429)], [np.float64(0.03454154154154149), np.float64(0.04485635635635631), np.float64(0.040760260260260195), np.float64(0.03436386386386379), np.float64(0.03686636636636629)], [np.float64(0.024331831831831775), np.float64(0.0299419419419419), np.float64(0.027947947947947884), np.float64(0.02275275275275267), np.float64(0.025255255255255172)], [np.float64(0.07308108108108102), np.float64(0.07058308308308305), np.float64(0.06378428428428422), np.float64(0.054284784784784705), np.float64(0.055586086086086006)], [np.float64(0.07758608608608604), np.float64(0.07488788788788785), np.float64(0.06618718718718712), np.float64(0.0563873873873873), np.float64(0.057388388388388306)], [np.float64(0.07559459459459511), np.float64(0.11249099099099137), np.float64(0.1565630630630637), np.float64(0.23935585585585661), np.float64(0.22944594594594672)], [np.float64(0.09189639639639635), np.float64(0.08689589589589586), np.float64(0.07769469469469463), np.float64(0.06629329329329321), np.float64(0.06689389389389382)], [np.float64(0.025430430430430376), np.float64(0.030540040040039997), np.float64(0.02924674674674668), np.float64(0.02345095095095086), np.float64(0.026353853853853765)], [np.float64(0.048153653653653594), np.float64(0.052462462462462424), np.float64(0.048666666666666594), np.float64(0.04166966966966958), np.float64(0.04447247247247239)], [np.float64(0.046652652652652594), np.float64(0.05036086086086083), np.float64(0.04726576576576569), np.float64(0.04016866866866858), np.float64(0.04307157157157149)], [np.float64(0.0014079079079078489), np.float64(0.003514514514514472), np.float64(0.002521521521521453), np.float64(0.016855855855856645), np.float64(0.002731731731731646)], [np.float64(0.04375075075075069), np.float64(0.048660160160160115), np.float64(0.0433628628628628), np.float64(0.041265765765765676), np.float64(0.03916866866866858)], [np.float64(0.0003078078078077487), np.float64(0.0021141141141140713), np.float64(0.00042042042042035046), np.float64(0.0010260260260259446), np.float64(0.0013313313313312427)], [np.float64(0.030438438438438378), np.float64(0.03544794794794791), np.float64(0.03275325325325318), np.float64(0.03165715715715708), np.float64(0.029960460460460376)], [np.float64(0.054062562562562505), np.float64(0.05616916916916912), np.float64(0.051672672672672594), np.float64(0.048774774774774696), np.float64(0.04597697697697689)], [np.float64(0.07658558558558554), np.float64(0.07498848848848845), np.float64(0.06758908908908902), np.float64(0.06198848848848842), np.float64(0.05798948948948941)], [np.float64(0.0019114114114113499), np.float64(0.002716716716716672), np.float64(0.00012212212212205087), np.float64(0.001128128128128042), np.float64(0.0018338338338337425)], [np.float64(0.01952952952952947), np.float64(0.027341841841841796), np.float64(0.024647147147147073), np.float64(0.023851351351351264), np.float64(0.023055555555555468)], [np.float64(0.000711211211211149), np.float64(0.000515515515515469), np.float64(0.011504504504505172), np.float64(0.007855855855856636), np.float64(3.303303303294203e-05)], [np.float64(0.0323333333333339), np.float64(0.04940990990991034), np.float64(0.011545045045045688), np.float64(0.010599099099099868), np.float64(0.05555405405405487)], [np.float64(0.03764414414414408), np.float64(0.04495595595595592), np.float64(0.04475875875875869), np.float64(0.042961961961961885), np.float64(0.03696596596596587)], [np.float64(0.007814814814814752), np.float64(0.004716216216216171), np.float64(0.007622122122122052), np.float64(0.0077272272272271405), np.float64(0.003833333333333239)], [np.float64(0.016123623623623563), np.float64(0.011323323323323276), np.float64(0.013428428428428354), np.float64(0.01403403403403395), np.float64(0.009539539539539444)], [np.float64(0.04525325325325319), np.float64(0.04856106106106102), np.float64(0.0483638638638638), np.float64(0.046066566566566484), np.float64(0.03906956956956947)], [np.float64(0.017325825825825765), np.float64(0.012725725725725676), np.float64(0.01423023023023016), np.float64(0.015136136136136054), np.float64(0.010041041041040949)], [np.float64(0.047356356356356294), np.float64(0.04866216216216212), np.float64(0.047764264264264195), np.float64(0.04616766766766758), np.float64(0.03937087087087078)], [np.float64(0.0566661661661661), np.float64(0.05526926926926923), np.float64(0.053370370370370304), np.float64(0.05087287287287279), np.float64(0.043275275275275187)], [np.float64(0.015225225225225804), np.float64(0.038608108108108545), np.float64(0.0025450450450457047), np.float64(0.007004504504505293), np.float64(0.04835585585585672)], [np.float64(0.028779279279279854), np.float64(0.07648648648648693), np.float64(0.08636936936937002), np.float64(0.12236036036036112), np.float64(0.19524324324324413)], [np.float64(0.007808808808808746), np.float64(0.004109609609609563), np.float64(0.006715215215215145), np.float64(0.006119619619619535), np.float64(0.0015250250250249315)], [np.float64(0.02923073073073067), np.float64(0.023029029029028984), np.float64(0.02233133133133126), np.float64(0.023237237237237154), np.float64(0.018542542542542447)], [np.float64(0.022124124124124064), np.float64(0.01211861861861857), np.float64(0.01292242242242235), np.float64(0.012927427427427342), np.float64(0.009033533533533436)], [np.float64(0.036438938938938875), np.float64(0.0352422422422422), np.float64(0.03614614614614608), np.float64(0.036251251251251164), np.float64(0.03065565565565556)], [np.float64(0.03023323323323317), np.float64(0.02613363363363358), np.float64(0.025736236236236165), np.float64(0.026141641641641556), np.float64(0.021446946946946856)], [np.float64(0.07617967967967963), np.float64(0.06517317317317312), np.float64(0.064075075075075), np.float64(0.061577577577577494), np.float64(0.05327927927927918)], [np.float64(0.008972972972973555), np.float64(0.06208558558558603), np.float64(0.08007657657657724), np.float64(0.11426576576576654), np.float64(0.1835450450450459)], [np.float64(0.05715715715715716), np.float64(0.052356356356356305), np.float64(0.05165865865865859), np.float64(0.050762762762762675), np.float64(0.04456656656656647)], [np.float64(0.04764814814814815), np.float64(0.042647147147147096), np.float64(0.04214964964964958), np.float64(0.042154654654654566), np.float64(0.03615865865865856)], [np.float64(0.0816826826826827), np.float64(0.07568068068068064), np.float64(0.07278078078078071), np.float64(0.0686816816816816), np.float64(0.06028328328328319)], [np.float64(0.034636136136136135), np.float64(0.03343893893893889), np.float64(0.03204054054054047), np.float64(0.03214564564564556), np.float64(0.02735085085085075)], [np.float64(0.033035035035035035), np.float64(0.028434434434434386), np.float64(0.026935935935935865), np.float64(0.02704104104104096), np.float64(0.02284684684684675)], [np.float64(0.046949449449449454), np.float64(0.0392457457457457), np.float64(0.038047547547547474), np.float64(0.037752252252252164), np.float64(0.032557057057056964)], [np.float64(0.08358658658658659), np.float64(0.07788488488488483), np.float64(0.0753853853853853), np.float64(0.0701851851851851), np.float64(0.0616866866866866)], [np.float64(0.0862897897897898), np.float64(0.07968718718718715), np.float64(0.07618668668668661), np.float64(0.0712867867867867), np.float64(0.06238788788788779)], [np.float64(0.06737137137137138), np.float64(0.05436236236236232), np.float64(0.05396496496496489), np.float64(0.05186786786786778), np.float64(0.04517117117117107)], [np.float64(0.07708158158158158), np.float64(0.06447297297297293), np.float64(0.0628743743743743), np.float64(0.06027677677677669), np.float64(0.051878378378378276)], [np.float64(0.0948998998998999), np.float64(0.09089989989989986), np.float64(0.08789989989989982), np.float64(0.0817987987987987), np.float64(0.0713983983983983)], [0.0945, np.float64(0.07739189189189236), np.float64(0.10168918918918989), np.float64(0.1340765765765774), np.float64(0.20515765765765853)], [np.float64(0.07487587587587588), np.float64(0.062367367367367324), np.float64(0.061969969969969896), np.float64(0.05897197197197188), np.float64(0.051474474474474376)], [np.float64(0.0983998998998999), np.float64(0.09439989989989986), np.float64(0.09139989989989983), np.float64(0.08639989989989982), np.float64(0.07639989989989981)], [np.float64(0.06096296296296297), np.float64(0.05225825825825821), np.float64(0.05256156156156149), np.float64(0.05056456456456448), np.float64(0.04356756756756747)], [np.float64(0.007610110110110108), np.float64(0.004310810810810759), np.float64(0.005414914914914837), np.float64(0.00441891891891883), np.float64(0.00132582582582573)], [np.float64(0.08188488488488488), np.float64(0.07438138138138133), np.float64(0.07358358358358351), np.float64(0.06868368368368359), np.float64(0.06008508508508499)], [np.float64(0.04594944944944945), np.float64(0.0402477477477477), np.float64(0.03854904904904897), np.float64(0.03725275275275266), np.float64(0.031757257257257164)], [np.float64(0.044348348348348346), np.float64(0.03854654654654649), np.float64(0.03734834834834827), np.float64(0.03625225225225216), np.float64(0.030656656656656563)], [np.float64(0.021626126126126122), np.float64(0.010118618618618564), np.float64(0.009220720720720641), np.float64(0.007924424424424332), np.float64(0.005431931931931838)], [np.float64(0.03574074074074073), np.float64(0.030539539539539487), np.float64(0.03074274274274266), np.float64(0.029246246246246155), np.float64(0.024751751751751656)], [np.float64(0.089494994994995), np.float64(0.07798748748748745), np.float64(0.07658908908908901), np.float64(0.07088838838838829), np.float64(0.06148898898898889)], [np.float64(0.08138738738738738), np.float64(0.07028028028028023), np.float64(0.06968268268268261), np.float64(0.065083083083083), np.float64(0.056584584584584485)], [np.float64(0.089495995995996), np.float64(0.07908958958958955), np.float64(0.07709059059059052), np.float64(0.0709894894894894), np.float64(0.061289789789789696)], [np.float64(0.010747747747747794), np.float64(0.04314414414414465), np.float64(0.028702702702703434), np.float64(0.05027927927928013), np.float64(0.0952342342342351)], [np.float64(0.07868118118118118), np.float64(0.06917567567567562), np.float64(0.0682777777777777), np.float64(0.06417867867867859), np.float64(0.055580080080079974)], [np.float64(0.07007307307307307), np.float64(0.059266266266266215), np.float64(0.060070070070069995), np.float64(0.057172172172172075), np.float64(0.04957457457457448)], [np.float64(0.04985335335335335), np.float64(0.039947447447447396), np.float64(0.04025075075075067), np.float64(0.039154654654654564), np.float64(0.03255805805805797)], [np.float64(0.04735135135135135), np.float64(0.03774574574574569), np.float64(0.03774874874874867), np.float64(0.036552552552552464), np.float64(0.030156156156156064)], [np.float64(0.09189639639639641), np.float64(0.08469319319319313), np.float64(0.08159309309309302), np.float64(0.07509159159159151), np.float64(0.0649914914914914)], [np.float64(0.07828328328328328), np.float64(0.07108008008008003), np.float64(0.06968168168168161), np.float64(0.0651821821821821), np.float64(0.056683683683683594)], [np.float64(0.053258758758758754), np.float64(0.044554054054054), np.float64(0.04725975975975968), np.float64(0.04516266266266257), np.float64(0.03746496496496487)], [np.float64(0.07037637637637638), np.float64(0.062272272272272215), np.float64(0.06277577577577569), np.float64(0.058376376376376285), np.float64(0.049877877877877785)], [np.float64(0.0902967967967968), np.float64(0.08509559559559554), np.float64(0.08229579579579571), np.float64(0.07589439439439431), np.float64(0.0657942942942942)], [np.float64(0.030937937937937934), np.float64(0.029840840840840783), np.float64(0.03164564564564556), np.float64(0.030749749749749658), np.float64(0.024853853853853754)], [np.float64(0.006113613613613605), np.float64(0.0010125125125124534), np.float64(0.002617117117117032), np.float64(0.0012207207207206223), np.float64(0.02405855855855944)], [np.float64(0.08399199199199199), np.float64(0.07788988988988983), np.float64(0.0752902902902902), np.float64(0.0692892892892892), np.float64(0.06448948948948939)], [np.float64(0.08839689689689689), np.float64(0.08499749749749744), np.float64(0.08229779779779772), np.float64(0.07589639639639631), np.float64(0.07079629629629619)], [np.float64(0.0848938938938939), np.float64(0.08169469469469465), np.float64(0.07919519519519512), np.float64(0.07299399399399391), np.float64(0.0679939939939939)], [np.float64(0.02693643643643643), np.float64(0.02794144144144138), np.float64(0.029946446446446357), np.float64(0.028850350350350253), np.float64(0.027554054054053957)], [np.float64(0.03524524524524524), np.float64(0.03044444444444438), np.float64(0.03134834834834826), np.float64(0.029751751751751654), np.float64(0.028155155155155057)], [np.float64(0.0889994994994995), np.float64(0.08529979979979974), np.float64(0.08239989989989982), np.float64(0.0770995995995995), np.float64(0.07189939939939931)], [np.float64(0.034445445445445436), np.float64(0.02884384384384378), np.float64(0.03134934934934926), np.float64(0.02945245245245235), np.float64(0.02795595595595586)], [np.float64(0.009921421421421411), np.float64(0.014830330330330266), np.float64(0.017335835835835745), np.float64(0.015739239239239138), np.float64(0.01594444444444434)], [np.float64(0.034546546546546535), np.float64(0.02994594594594588), np.float64(0.03125025025025016), np.float64(0.02935335335335325), np.float64(0.028057057057056956)], [np.float64(0.07989239239239238), np.float64(0.07869519519519513), np.float64(0.07639589589589582), np.float64(0.0702947947947947), np.float64(0.0648943943943943)], [np.float64(0.050463463463463455), np.float64(0.055072072072072015), np.float64(0.05437437437437429), np.float64(0.050975975975975876), np.float64(0.04727727727727718)], [np.float64(0.05506856856856856), np.float64(0.05967717717717711), np.float64(0.05857907907907898), np.float64(0.05447997997997988), np.float64(0.05058108108108098)], [np.float64(0.09987387387387399), np.float64(0.13407207207207267), np.float64(0.13945045045045126), np.float64(0.17273873873873966), np.float64(0.19521621621621715)], [np.float64(0.007817317317317307), np.float64(0.017631131131131066), np.float64(0.018735235235235147), np.float64(0.01864014014014004), np.float64(0.01824474474474464)], [np.float64(0.0037137137137137014), np.float64(0.015729729729729667), np.float64(0.017134134134134046), np.float64(0.01693893893893884), np.float64(0.01684384384384374)], [np.float64(0.04585135135135146), np.float64(0.06293243243243302), np.float64(0.05569819819819901), np.float64(0.05385135135135226), np.float64(0.05380630630630727)], [np.float64(0.027233233233233223), np.float64(0.03194194194194188), np.float64(0.032945945945945854), np.float64(0.03255055055055046), np.float64(0.031154154154154047)], [np.float64(0.0910975975975976), np.float64(0.08869919919919914), np.float64(0.08599949949949942), np.float64(0.080599099099099), np.float64(0.0754989989989989)], [np.float64(0.04094794794794794), np.float64(0.04275375375375369), np.float64(0.04626026026026017), np.float64(0.04376276276276266), np.float64(0.04076476476476465)], [np.float64(0.08389139139139137), np.float64(0.08389539539539534), np.float64(0.0826971971971971), np.float64(0.0761956956956956), np.float64(0.07129579579579569)], [np.float64(0.009017017017017005), np.float64(0.017729729729729665), np.float64(0.019634634634634548), np.float64(0.019039039039038936), np.float64(0.01874374374374364)], [np.float64(0.012320820820820809), np.float64(0.018731231231231167), np.float64(0.020335835835835744), np.float64(0.01994044044044034), np.float64(0.01954504504504494)], [np.float64(0.014523523523523511), np.float64(0.018831831831831763), np.float64(0.022238238238238145), np.float64(0.02174274274274264), np.float64(0.021247247247247143)], [np.float64(0.05216666666666679), np.float64(0.07645495495495556), np.float64(0.08093243243243327), np.float64(0.09710360360360452), np.float64(0.10516666666666763)], [np.float64(0.02222722722722721), np.float64(0.024033033033032968), np.float64(0.026338338338338253), np.float64(0.026443443443443338), np.float64(0.025647647647647542)], [np.float64(0.026632132132132114), np.float64(0.02883833833833828), np.float64(0.030743243243243158), np.float64(0.030748248248248147), np.float64(0.029852352352352243)], [0.09399999999999999, np.float64(0.07558558558558619), np.float64(0.10528828828828912), np.float64(0.13046846846846938), np.float64(0.16285585585585682)], [np.float64(0.009010510510510498), np.float64(0.004910410410410344), np.float64(0.0038123123123122216), np.float64(0.004417917917917816), np.float64(0.0047232232232231166)], [np.float64(0.013815815815815802), np.float64(0.00961561561561555), np.float64(0.007516516516516425), np.float64(0.008422422422422322), np.float64(0.00842742742742732)], [np.float64(0.06636886886886886), np.float64(0.06757407407407401), np.float64(0.06607557557557549), np.float64(0.06287737737737728), np.float64(0.05897847847847837)], [np.float64(0.0025055055055054924), np.float64(0.010747747747748356), np.float64(0.02243243243243326), np.float64(0.030495495495496423), np.float64(0.04306306306306401)], [np.float64(0.03613963963963963), np.float64(0.03934184184184178), np.float64(0.03994544544544535), np.float64(0.03914964964964956), np.float64(0.03795345345345335)], [np.float64(0.016120120120120107), np.float64(0.02442742742742736), np.float64(0.02483083083083074), np.float64(0.024735735735735634), np.float64(0.024240240240240133)], [np.float64(0.032637137137137125), np.float64(0.03283633633633627), np.float64(0.034040540540540454), np.float64(0.03374524524524515), np.float64(0.03234884884884875)], [np.float64(0.058363363363363355), np.float64(0.0633673673673673), np.float64(0.06246946946946938), np.float64(0.05927127127127118), np.float64(0.05647347347347337)], [np.float64(0.011517017017017003), np.float64(0.01572022022022015), np.float64(0.014121621621621531), np.float64(0.013826326326326225), np.float64(0.013631131131131022)], [np.float64(0.051457457457457445), np.float64(0.04695195195195188), np.float64(0.045353353353353255), np.float64(0.04305605605605596), np.float64(0.04095895895895886)], [np.float64(0.05796446446446445), np.float64(0.05916466466466459), np.float64(0.05856706706706697), np.float64(0.05576926926926917), np.float64(0.052771271271271174)], [np.float64(0.06537237237237235), np.float64(0.06787387387387381), np.float64(0.06577477477477468), np.float64(0.062476476476476375), np.float64(0.05867767767767758)], [np.float64(0.006814314314314298), np.float64(0.009716216216216149), np.float64(0.007817317317317224), np.float64(0.007021521521521418), np.float64(0.006826326326326218)], [np.float64(0.08399199199199198), np.float64(0.08759459459459452), np.float64(0.0859959959959959), np.float64(0.0806956956956956), np.float64(0.0748948948948948)], [np.float64(0.059968468468468455), np.float64(0.0638713713713713), np.float64(0.06187237237237228), np.float64(0.058774274274274174), np.float64(0.05527577577577567)], [np.float64(0.05266166166166164), np.float64(0.05075875875875868), np.float64(0.05026126126126116), np.float64(0.04746346346346336), np.float64(0.04496596596596586)], [np.float64(0.010720220220220202), np.float64(0.017225725725725654), np.float64(0.018730230230230138), np.float64(0.017433933933933828), np.float64(0.017238738738738626)], [np.float64(0.05346346346346345), np.float64(0.05065965965965959), np.float64(0.04976176176176166), np.float64(0.046863863863863764), np.float64(0.044266266266266154)], [np.float64(0.056767267267267246), np.float64(0.054263763763763684), np.float64(0.05456706706706697), np.float64(0.05146896896896887), np.float64(0.04827077077077067)], [np.float64(0.021522522522522694), np.float64(0.00981981981982047), np.float64(0.029612612612613488), np.float64(0.027765765765766736), np.float64(0.034027027027028034)], [np.float64(0.07197847847847846), np.float64(0.0699754754754754), np.float64(0.06787637637637628), np.float64(0.06417767767767757), np.float64(0.060078578578578457)], [np.float64(0.09089789789789789), np.float64(0.09259859859859854), np.float64(0.09009909909909901), np.float64(0.08539939939939929), np.float64(0.0799989989989989)], [np.float64(0.034241741741741716), np.float64(0.03083733733733727), np.float64(0.031340840840840746), np.float64(0.03034484484484474), np.float64(0.02894844844844834)], [np.float64(0.018726726726726702), np.float64(0.02122822822822816), np.float64(0.023333333333333234), np.float64(0.02223723723723713), np.float64(0.021341341341341233)], [np.float64(0.08199049049049048), np.float64(0.08669419419419412), np.float64(0.0854959959959959), np.float64(0.08049599599599588), np.float64(0.07469519519519507)], [np.float64(0.08629529529529528), np.float64(0.08959759759759753), np.float64(0.0874984984984984), np.float64(0.08289889889889879), np.float64(0.07719819819819809)], [np.float64(0.07548498498498496), np.float64(0.07948798798798792), np.float64(0.0787902902902902), np.float64(0.07338988988988977), np.float64(0.06798948948948938)], [np.float64(0.07208208208208207), np.float64(0.07027927927927921), np.float64(0.06998198198198188), np.float64(0.06578278278278267), np.float64(0.06128328328328317)], [np.float64(0.05776826826826825), np.float64(0.0574669669669669), np.float64(0.05646896896896887), np.float64(0.053170670670670564), np.float64(0.05067317317317306)], [np.float64(0.055166166166166146), np.float64(0.05406406406406399), np.float64(0.05346646646646637), np.float64(0.04996796796796786), np.float64(0.04747047047047036)], [np.float64(0.024035535535535512), np.float64(0.019129629629629552), np.float64(0.021935435435435337), np.float64(0.01973823823823813), np.float64(0.01974324324324313)], [np.float64(0.07258458458458457), np.float64(0.07118218218218211), np.float64(0.07148548548548538), np.float64(0.06648548548548537), np.float64(0.06208608608608597)], [np.float64(0.07378628628628627), np.float64(0.07788938938938932), np.float64(0.0771916916916916), np.float64(0.07189139139139127), np.float64(0.06639089089089077)], [np.float64(0.028541541541541517), np.float64(0.021833833833833756), np.float64(0.022937937937937837), np.float64(0.02194194194194183), np.float64(0.02184684684684673)], [np.float64(0.052966466466466446), np.float64(0.05226476476476469), np.float64(0.050566066066065965), np.float64(0.04776826826826816), np.float64(0.04557107107107095)], [np.float64(0.03835235235235233), np.float64(0.03374674674674667), np.float64(0.030846846846846743), np.float64(0.029350350350350236), np.float64(0.028454454454454332)], [np.float64(0.037351851851851824), np.float64(0.03554904904904897), np.float64(0.031948448448448345), np.float64(0.03025175175175164), np.float64(0.029255755755755636)], [np.float64(0.040405405405405645), np.float64(0.02690090090090161), np.float64(0.04038738738738831), np.float64(0.05565765765765869), np.float64(0.0655225225225236)], [np.float64(0.04404954954954978), np.float64(0.026040540540541245), np.float64(0.03772522522522615), np.float64(0.04939189189189291), np.float64(0.0610585585585596)], [np.float64(0.013819819819819796), np.float64(0.017422422422422347), np.float64(0.017725725725725623), np.float64(0.015528528528528419), np.float64(0.01573373373373362)], [np.float64(0.07378028028028026), np.float64(0.07047597597597591), np.float64(0.06927777777777769), np.float64(0.06517867867867858), np.float64(0.061379879879879765)], [np.float64(0.05306006006006003), np.float64(0.05506106106106099), np.float64(0.05166066066066055), np.float64(0.04936336336336326), np.float64(0.04756656656656645)], [np.float64(0.05155905905905903), np.float64(0.05506156156156148), np.float64(0.051460960960960866), np.float64(0.04896346346346336), np.float64(0.04696646646646635)], [np.float64(0.004312312312312286), np.float64(0.005212212212212134), np.float64(0.00331331331331321), np.float64(0.0011161161161160032), np.float64(0.004324324324325396)], [np.float64(0.05436286286286284), np.float64(0.055462962962962895), np.float64(0.05256306306306296), np.float64(0.05016566566566555), np.float64(0.05286836836836826)], [np.float64(0.010019019019018992), np.float64(0.011719719719719641), np.float64(0.007818818818818716), np.float64(0.0048208208208207065), np.float64(0.008624624624624508)], [np.float64(0.04345295295295292), np.float64(0.04965815815815808), np.float64(0.045757257257257156), np.float64(0.04356006006005995), np.float64(0.046663163163163046)], [np.float64(0.08739739739739738), np.float64(0.08769669669669662), np.float64(0.0859979979979979), np.float64(0.08159859859859848), np.float64(0.0809979979979979)], [np.float64(0.06797847847847845), np.float64(0.0659754754754754), np.float64(0.062074574574574465), np.float64(0.058576076076075956), np.float64(0.06007757757757746)], [np.float64(0.03564664664664662), np.float64(0.04515515515515508), np.float64(0.042155155155155055), np.float64(0.040558558558558444), np.float64(0.04356156156156145)], [np.float64(0.010722222222222192), np.float64(0.013223723723723643), np.float64(0.013527027027026923), np.float64(0.011630130130130013), np.float64(0.016034534534534416)], [np.float64(0.026438438438438405), np.float64(0.035446446446446365), np.float64(0.032646646646646536), np.float64(0.029748748748748634), np.float64(0.03325225225225214)], [np.float64(0.030643143143143117), np.float64(0.039751251251251174), np.float64(0.03625075075075065), np.float64(0.033252752752752635), np.float64(0.03665615615615604)], [np.float64(0.05837137137137134), np.float64(0.058370370370370295), np.float64(0.053268268268268165), np.float64(0.050470470470470354), np.float64(0.05237237237237226)], [np.float64(0.026940440440440406), np.float64(0.03765015015015007), np.float64(0.033749249249249144), np.float64(0.030651151151151038), np.float64(0.03395445445445433)], [np.float64(0.029243243243243212), np.float64(0.03925225225225217), np.float64(0.035651651651651545), np.float64(0.033254254254254136), np.float64(0.03655755755755744)], [np.float64(0.03104554554554552), np.float64(0.04415765765765758), np.float64(0.040456956956956856), np.float64(0.038359859859859735), np.float64(0.04076226226226214)], [0.08499999999999996, 0.08599999999999992, np.float64(0.1493963963963974), np.float64(0.18809009009009117), np.float64(0.17818018018018128)], [np.float64(0.07488538538538535), np.float64(0.075585085085085), np.float64(0.07068318318318308), np.float64(0.06738488488488477), np.float64(0.06738488488488477)], [np.float64(0.012423423423423391), np.float64(0.023133133133133046), np.float64(0.02213513513513503), np.float64(0.02043843843843832), np.float64(0.02394194194194182)], [np.float64(0.0182297297297297), np.float64(0.03174224224224216), np.float64(0.029843343343343234), np.float64(0.027045545545545426), np.float64(0.030649149149149027)], [np.float64(0.06898098098098095), np.float64(0.0708818818818818), np.float64(0.06668068068068057), np.float64(0.06298198198198186), np.float64(0.06338238238238225)], [np.float64(0.05126376376376373), np.float64(0.055767267267267176), np.float64(0.05086536536536526), np.float64(0.04856806806806795), np.float64(0.05036986986986976)], [np.float64(0.04385685685685682), np.float64(0.05096296296296288), np.float64(0.046761761761761646), np.float64(0.044864864864864754), np.float64(0.04736736736736725)], [np.float64(0.07338688688688685), np.float64(0.07288538538538529), np.float64(0.06928478478478467), np.float64(0.06528578578578567), np.float64(0.06528578578578566)], [np.float64(0.016030030030029997), np.float64(0.031044044044043963), np.float64(0.027643643643643537), np.float64(0.02524624624624613), np.float64(0.02874974974974963)], [np.float64(0.04866316316316313), np.float64(0.05286636636636628), np.float64(0.04766416416416405), np.float64(0.04606756756756745), np.float64(0.047669169169169044)], [np.float64(0.03214714714714711), np.float64(0.04395795795795787), np.float64(0.03935635635635624), np.float64(0.03765965965965954), np.float64(0.04036236236236224)], [np.float64(0.033193693693694015), np.float64(0.0058203203203202325), np.float64(0.003921421421421309), np.float64(0.003025525525525405), np.float64(0.007029529529529405)], [np.float64(0.016027027027026994), np.float64(0.02113613613613605), np.float64(0.019637637637637526), np.float64(0.018441441441441317), np.float64(0.02234534534534522)], [np.float64(0.08099249249249246), np.float64(0.0753908908908908), np.float64(0.07319169169169158), np.float64(0.06939289289289277), np.float64(0.06839189189189177)], [np.float64(0.06157357357357354), np.float64(0.060076076076075985), np.float64(0.056075075075074955), np.float64(0.053077077077076956), np.float64(0.05327727727727716)], [np.float64(0.07648898898898897), np.float64(0.070587087087087), np.float64(0.06778728728728717), np.float64(0.06388838838838827), np.float64(0.06348798798798787)], [np.float64(0.052865865865865835), np.float64(0.049966966966966876), np.float64(0.04536536536536526), np.float64(0.04396896896896885), np.float64(0.044869869869869745)], [np.float64(0.06647997997997994), np.float64(0.06448198198198189), np.float64(0.060781281281281165), np.float64(0.05708258258258247), np.float64(0.05718268268268256)], [np.float64(0.05266666666666663), np.float64(0.04946746746746738), np.float64(0.045366366366366255), np.float64(0.044270270270270154), np.float64(0.045071071071070945)], [np.float64(0.05747197197197194), np.float64(0.051970470470470376), np.float64(0.048369869869869755), np.float64(0.046272772772772655), np.float64(0.047173673673673554)], [np.float64(0.08339839839839837), np.float64(0.072091091091091), np.float64(0.07059259259259247), np.float64(0.06659359359359347), np.float64(0.06599299299299287)], [np.float64(0.04415965965965962), np.float64(0.04236186186186178), np.float64(0.040162662662662545), np.float64(0.03956706706706695), np.float64(0.04046796796796784)], [np.float64(0.08219819819819817), np.float64(0.072092092092092), np.float64(0.07029329329329317), np.float64(0.06639439439439428), np.float64(0.06559359359359347)], [np.float64(0.03565215215215212), np.float64(0.03555605605605596), np.float64(0.03445795795795784), np.float64(0.03436286286286274), np.float64(0.03576426426426413)], [np.float64(0.018765765765766128), np.float64(0.009720720720721557), np.float64(0.0020260260260259095), np.float64(0.0015305305305304052), np.float64(0.005234234234234103)], [np.float64(0.08739989989989988), np.float64(0.08049699699699692), np.float64(0.07369819819819808), np.float64(0.06919869869869857), np.float64(0.06859809809809796)], [np.float64(0.021504504504504862), np.float64(0.025072072072072918), np.float64(0.035810810810811854), np.float64(0.04747747747747861), np.float64(0.013243243243244423)], [np.float64(0.023031531531531493), np.float64(0.029642142142142048), np.float64(0.023544044044043932), np.float64(0.02254804804804792), np.float64(0.02565115115115102)], [np.float64(0.08078978978978975), np.float64(0.072085085085085), np.float64(0.06608708708708698), np.float64(0.062188188188188054), np.float64(0.06188788788788775)], [np.float64(0.03814764764764761), np.float64(0.038852352352352265), np.float64(0.03395545545545534), np.float64(0.03315965965965953), np.float64(0.03546196196196183)], [np.float64(0.06247247247247243), np.float64(0.05436836836836828), np.float64(0.04937137137137126), np.float64(0.04627327327327315), np.float64(0.04817517517517505)], [np.float64(0.010821321321321282), np.float64(0.016230730730730638), np.float64(0.013936436436436321), np.float64(0.013340840840840713), np.float64(0.01804554554554541)], [np.float64(0.06897997997997994), np.float64(0.0626776776776776), np.float64(0.05677977977977966), np.float64(0.05328128128128116), np.float64(0.054482482482482344)], [np.float64(0.03664814814814811), np.float64(0.03855405405405397), np.float64(0.03415765765765754), np.float64(0.03326176176176163), np.float64(0.03566416416416403)], [np.float64(0.08789989989989987), np.float64(0.08379979979979972), np.float64(0.07579979979979969), np.float64(0.07089989989989978), np.float64(0.07089989989989977)], [np.float64(0.08739989989989987), np.float64(0.08339989989989982), np.float64(0.07539989989989979), np.float64(0.07039989989989977), np.float64(0.07039989989989977)], [np.float64(0.0029159159159158734), np.float64(0.010027027027026934), np.float64(0.008133133133133014), np.float64(0.007937937937937806), np.float64(0.011941941941941803)], [np.float64(0.035148648648648605), np.float64(0.03675425425425416), np.float64(0.032958458458458344), np.float64(0.032262762762762624), np.float64(0.03436486486486473)], [np.float64(0.07899299299299295), np.float64(0.07539339339339331), np.float64(0.06939539539539528), np.float64(0.06569669669669656), np.float64(0.06519619619619606)], [np.float64(0.06988438438438434), np.float64(0.0660845845845845), np.float64(0.06188838838838826), np.float64(0.058189689689689565), np.float64(0.05778928928928915)], [np.float64(0.06938438438438434), np.float64(0.06648548548548538), np.float64(0.06228928928928917), np.float64(0.05889089089089075), np.float64(0.05829029029029015)], [np.float64(0.06608158158158155), np.float64(0.06288238238238229), np.float64(0.05828578578578567), np.float64(0.05478728728728715), np.float64(0.05488738738738724)], [np.float64(0.13228828828828867), np.float64(0.14756756756756845), np.float64(0.20965765765765873), np.float64(0.23393693693693812), np.float64(0.19790090090090215)], [np.float64(0.060872372372372335), np.float64(0.06197747747747737), np.float64(0.05647997997997986), np.float64(0.052881381381381244), np.float64(0.053882382382382236)], [np.float64(0.07458658658658655), np.float64(0.07138738738738729), np.float64(0.06578978978978967), np.float64(0.062191191191191056), np.float64(0.06179079079079064)], [np.float64(0.08006756756756797), np.float64(0.03949099099099187), np.float64(0.08896846846846954), np.float64(0.11955405405405528), np.float64(0.0736081081081094)], [np.float64(0.002210210210210167), np.float64(0.00541741741741732), np.float64(0.004024024024023906), np.float64(0.0033283283283281895), np.float64(0.008133133133132986)], [np.float64(0.05206056056056052), np.float64(0.05606856856856847), np.float64(0.05107157157157145), np.float64(0.04757307307307293), np.float64(0.04957507507507493)], [np.float64(0.05025925925925922), np.float64(0.05546846846846837), np.float64(0.050871871871871754), np.float64(0.04707307307307293), np.float64(0.04907507507507493)], [np.float64(0.01692642642642638), np.float64(0.025238738738738643), np.float64(0.020141641641641523), np.float64(0.018645145145145006), np.float64(0.022649149149149003)], [np.float64(0.036946946946946904), np.float64(0.043657657657657556), np.float64(0.03996196196196185), np.float64(0.03786486486486473), np.float64(0.03966666666666652)]]\n"
     ]
    }
   ],
   "source": [
    "print(test_result['all_pinball_losses'])"
   ]
  },
  {
   "cell_type": "code",
   "execution_count": 18,
   "metadata": {},
   "outputs": [
    {
     "name": "stdout",
     "output_type": "stream",
     "text": [
      "4\n"
     ]
    }
   ],
   "source": [
    "# Getting the average set loss of each head.\n",
    "set_loss_list = np.array(test_result['all_pinball_losses'])\n",
    "mean = set_loss_list.mean(axis=0)\n",
    "print(np.argmin(mean))"
   ]
  },
  {
   "cell_type": "code",
   "execution_count": 19,
   "metadata": {},
   "outputs": [
    {
     "name": "stdout",
     "output_type": "stream",
     "text": [
      "[5.59097843 5.31418275 5.2209563  5.20439364 5.26072512]\n",
      "3\n"
     ]
    }
   ],
   "source": [
    "# Getting the average set radius of each head.\n",
    "head_radii_list = np.array(test_result['head_radii_list'])\n",
    "print(head_radii_list.mean(axis=0))\n",
    "radi = head_radii_list.mean(axis=0)\n",
    "print(np.argmin(radi))"
   ]
  },
  {
   "cell_type": "code",
   "execution_count": 33,
   "metadata": {},
   "outputs": [
    {
     "name": "stdout",
     "output_type": "stream",
     "text": [
      "Best possible result, 0.9467553777852357\n",
      "Our result 2.1546979896362033\n",
      "Just guessing 1.0723926399895125\n"
     ]
    }
   ],
   "source": [
    "# Finding what the best possible result it\n",
    "head_radii_list = np.array(test_result['head_radii_list'])\n",
    "#getting the minimum of each head in each row\n",
    "min_radii = head_radii_list.argmin(axis=1)\n",
    "\n",
    "print('Best possible width,', min_radii.mean())\n",
    "print('Our result', test_result['average_prediction_interval'])\n",
    "just_guessing = np.array(head_radii_list).mean()\n",
    "print('Just guessing', just_guessing)"
   ]
  },
  {
   "cell_type": "code",
   "execution_count": 24,
   "metadata": {},
   "outputs": [
    {
     "name": "stdout",
     "output_type": "stream",
     "text": [
      "sr = 0.25510204081632654\n",
      "sc = 0.01020408163265306\n"
     ]
    }
   ],
   "source": [
    "set_and_radii = []\n",
    "set_and_coverage = []\n",
    "\n",
    "for data in stock_data:\n",
    "    test_result = BACP.AwACI(data)\n",
    "    mean, radii = np.array(test_result['all_pinball_losses']).mean(axis=0), np.array(test_result['head_radii_list']).mean(axis=0)\n",
    "    coverage = abs(0.9 - np.array(test_result['head_error_list']).mean(axis=0))\n",
    "\n",
    "    sr = np.argmin(mean) == np.argmin(radii)\n",
    "    sc = np.argmin(mean) == np.argmin(coverage)\n",
    "\n",
    "    set_and_radii.append(sr)\n",
    "    set_and_coverage.append(sc)\n",
    "\n",
    "print(f'sr = {sum(set_and_radii)/len(set_and_radii)}')\n",
    "print(f'sc = {sum(set_and_coverage)/len(set_and_coverage)}')\n",
    "\n",
    "# Leads us to believe that set loss isnt the best for coverage, although the coverages are very close."
   ]
  },
  {
   "cell_type": "markdown",
   "metadata": {},
   "source": [
    "# Testing whether B_t is as expected."
   ]
  },
  {
   "cell_type": "code",
   "execution_count": 21,
   "metadata": {},
   "outputs": [
    {
     "name": "stdout",
     "output_type": "stream",
     "text": [
      "152.19000244140625 148.91000366210938\n"
     ]
    },
    {
     "ename": "NameError",
     "evalue": "name 'B_t' is not defined",
     "output_type": "error",
     "traceback": [
      "\u001b[1;31m---------------------------------------------------------------------------\u001b[0m",
      "\u001b[1;31mNameError\u001b[0m                                 Traceback (most recent call last)",
      "Cell \u001b[1;32mIn[21], line 29\u001b[0m\n\u001b[0;32m     26\u001b[0m     \u001b[38;5;28;01melse\u001b[39;00m:\n\u001b[0;32m     27\u001b[0m         high \u001b[38;5;241m=\u001b[39m mid \u001b[38;5;241m-\u001b[39m \u001b[38;5;241m1\u001b[39m\n\u001b[1;32m---> 29\u001b[0m \u001b[38;5;28mprint\u001b[39m(\u001b[38;5;124m'\u001b[39m\u001b[38;5;124mthe coverage that this implies is\u001b[39m\u001b[38;5;124m'\u001b[39m, \u001b[38;5;241m1\u001b[39m\u001b[38;5;241m-\u001b[39m\u001b[43mB_t\u001b[49m)\n\u001b[0;32m     30\u001b[0m BACP\u001b[38;5;241m.\u001b[39mneg_inverse_score(xpred,  np\u001b[38;5;241m.\u001b[39mquantile(relevant_scores, \u001b[38;5;241m1\u001b[39m \u001b[38;5;241m-\u001b[39m B_t)) \n\u001b[0;32m     32\u001b[0m \u001b[38;5;66;03m# B_t should not relate in any way to coverage. It is simply what quantile that score fell in. The scores themselves again do not relate to the coverage.\u001b[39;00m\n\u001b[0;32m     33\u001b[0m \n\u001b[0;32m     34\u001b[0m \u001b[38;5;66;03m# So there is a time when an B as high as 0.99 is correct and it is when the desired and true are very equal.\u001b[39;00m\n\u001b[0;32m     35\u001b[0m \u001b[38;5;66;03m# The value is extrodinarly high, should this be the case?\u001b[39;00m\n\u001b[0;32m     36\u001b[0m \u001b[38;5;66;03m# Well we arent trying to solve for B we will just use it in the pinball loss\u001b[39;00m\n",
      "\u001b[1;31mNameError\u001b[0m: name 'B_t' is not defined"
     ]
    }
   ],
   "source": [
    "#\n",
    "data = stock_data[4]\n",
    "scores = BACP.score_function(data[0], data[1])\n",
    "\n",
    "# at time 600\n",
    "time = 660\n",
    "xpred, true = data[0][time], data[1][time]\n",
    "\n",
    "print(xpred, true)\n",
    "\n",
    "relevant_scores = scores[time-550:time]\n",
    "\n",
    "# The best that we can do is 0, which is still not that small\n",
    "\n",
    "low, high = 0, 999  # Indices for np.linspace(1, 0, 1000)\n",
    "possibilities = np.linspace(1, 0, 1000) # as 1 -\n",
    "\n",
    "B_t = 1\n",
    "while low <= high:\n",
    "    mid = (high + low) // 2\n",
    "    possi = possibilities[mid]\n",
    "    Q = np.quantile(relevant_scores, 1-possi)\n",
    "\n",
    "    if BACP.neg_inverse_score(xpred, Q) < true < BACP.pos_inverse_score(xpred, Q):\n",
    "        B_t = possi\n",
    "        low = mid + 1\n",
    "    else:\n",
    "        high = mid - 1\n",
    "\n",
    "print('the coverage that this implies is', 1-B_t)\n",
    "BACP.neg_inverse_score(xpred,  np.quantile(relevant_scores, 1 - B_t)) \n",
    "\n",
    "# B_t should not relate in any way to coverage. It is simply what quantile that score fell in. The scores themselves again do not relate to the coverage.\n",
    "\n",
    "# So there is a time when an B as high as 0.99 is correct and it is when the desired and true are very equal.\n",
    "# The value is extrodinarly high, should this be the case?\n",
    "# Well we arent trying to solve for B we will just use it in the pinball loss"
   ]
  }
 ],
 "metadata": {
  "kernelspec": {
   "display_name": "Python 3",
   "language": "python",
   "name": "python3"
  },
  "language_info": {
   "codemirror_mode": {
    "name": "ipython",
    "version": 3
   },
   "file_extension": ".py",
   "mimetype": "text/x-python",
   "name": "python",
   "nbconvert_exporter": "python",
   "pygments_lexer": "ipython3",
   "version": "3.12.4"
  }
 },
 "nbformat": 4,
 "nbformat_minor": 2
}
