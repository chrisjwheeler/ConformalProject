{
 "cells": [
  {
   "cell_type": "code",
   "execution_count": null,
   "metadata": {},
   "outputs": [],
   "source": []
  },
  {
   "cell_type": "markdown",
   "metadata": {},
   "source": [
    "## Here we attempt to fix the finite weight problem."
   ]
  },
  {
   "cell_type": "markdown",
   "metadata": {},
   "source": [
    "Context: I would estimate that in about 1 in 100 cases we see that the weights cause an issue.\n",
    "They say that the sum of the weights needs to be finite, this means that the weights have gotten to small as there is no way for the weights to get larger.\n",
    "\n",
    "This is never a problem for DtACI -> This is a question which you should explore.\n",
    "\n",
    "Task:\n",
    "- We do not want to disrupt the relative size of the weights but we want to ensure that they do not grow to small. \n",
    "- "
   ]
  },
  {
   "cell_type": "markdown",
   "metadata": {},
   "source": [
    "## Considering DtACI"
   ]
  }
 ],
 "metadata": {
  "language_info": {
   "name": "python"
  }
 },
 "nbformat": 4,
 "nbformat_minor": 2
}
