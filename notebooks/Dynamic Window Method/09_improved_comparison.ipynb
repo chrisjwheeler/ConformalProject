{
 "cells": [
  {
   "cell_type": "code",
   "execution_count": 3,
   "metadata": {},
   "outputs": [],
   "source": [
    "import os\n",
    "import sys\n",
    "import warnings\n",
    "warnings.filterwarnings(\"ignore\")\n",
    "\n",
    "import numpy as np\n",
    "import pandas as pd\n",
    "import yahooquery as yq\n",
    "import random\n",
    "\n",
    "import matplotlib.pyplot as plt"
   ]
  },
  {
   "cell_type": "code",
   "execution_count": 27,
   "metadata": {},
   "outputs": [],
   "source": [
    "src_path = os.path.abspath(os.path.join('..', '..', 'src'))\n",
    "sys.path.append(src_path)\n",
    "\n",
    "from ConformalMethods import AdaptiveCP, ACP_plots, ACP_data"
   ]
  },
  {
   "cell_type": "markdown",
   "metadata": {},
   "source": [
    "## Comparing set vs pinball on Improved Implementation."
   ]
  },
  {
   "cell_type": "code",
   "execution_count": 5,
   "metadata": {},
   "outputs": [],
   "source": [
    "class set_safe_AwACI(AdaptiveCP):\n",
    "    def set_loss(self, optimal_set, given_set):\n",
    "         val = (optimal_set - given_set) \n",
    "         if val < 0:\n",
    "              return (self.coverage_target) * (-1* val)\n",
    "         else:\n",
    "              return (1 - self.coverage_target) * val\n",
    "    \n",
    "    def set_loss_vectorize(self):\n",
    "         return np.vectorize(self.set_loss)\n",
    "    \n",
    "    def ACI_head(self, timeseries_data: tuple, gamma: float, start_point: int, custom_interval = None):\n",
    "        xpred, y = timeseries_data\n",
    "        alpha_t_list = [self.coverage_target]\n",
    "\n",
    "        All_scores = self.score_function(xpred, y)\n",
    "\n",
    "        err_t_list = []\n",
    "        conformal_sets_list = []\n",
    "        \n",
    "        for i in range(start_point, len(All_scores)):\n",
    "            Coverage_t = self.C_t(alpha_t_list[-1], All_scores, xpred[i], i, custom_interval)\n",
    "            conformal_sets_list.append(Coverage_t)\n",
    "\n",
    "            # We calculate the optimal B_t.\n",
    "\n",
    "            yield Coverage_t\n",
    "\n",
    "            error_t = AdaptiveCP.err_t(y[i], Coverage_t)\n",
    "            err_t_list.append(error_t)\n",
    "\n",
    "            alpha_t = min(max(alpha_t_list[-1] + (gamma * (self.coverage_target - error_t)), 0), 1)\n",
    "            alpha_t_list.append(alpha_t)\n",
    "\n",
    "        return False\n",
    "    \n",
    "    def AwACI(self, timeseries_data: tuple, interval_candidates: np.array = None, nu_sigma: tuple = (10**-2, 0.05), gamma: float = 0.05, title: str = None):\n",
    "        \n",
    "        xpred, y = timeseries_data\n",
    "\n",
    "        chosen_interval_index = []\n",
    "        err_t_list = []\n",
    "        conformal_sets_list = []\n",
    "        optimal_radius_list = []\n",
    "        chosen_radius_list = []\n",
    "\n",
    "        all_head_radii = []\n",
    "        all_interval_weights = []\n",
    "\n",
    "\n",
    "\n",
    "        Set_loss = self.set_loss_vectorize()\n",
    "\n",
    "        # Scale parameters, havent looked into scaling them best.\n",
    "        sigma = nu_sigma[1]\n",
    "        nu = nu_sigma[0] \n",
    "\n",
    "        if interval_candidates is None:\n",
    "            interval_candidates = np.array(range(50, 550, 100))\n",
    "\n",
    "        # To sync all of the heads we need to start at the max of all the candidates.\n",
    "        start_point = max(interval_candidates) + 1\n",
    "        i_count = start_point\n",
    "\n",
    "        # Create the head and intitialse the weights.\n",
    "        ACI_heads = [self.ACI_head(timeseries_data, gamma, start_point, interval) for interval in interval_candidates]\n",
    "        interval_weights = np.ones(len(interval_candidates))\n",
    "        culmative_loss = np.zeros(len(interval_candidates))\n",
    "        \n",
    "        # Continues calculating intervals until one of the heads stops.\n",
    "        none_terminated = True\n",
    "\n",
    "        while none_terminated: \n",
    "            head_sets = [] # Will contain the result from each head.\n",
    "                \n",
    "            try:\n",
    "                # Create a list of the coverages for the different heads.\n",
    "                for head in ACI_heads:\n",
    "                        head_sets.append(next(head))\n",
    "            \n",
    "            except StopIteration: # One head is terminated.\n",
    "                none_terminated = False\n",
    "                break # You could but the return statement here\n",
    "\n",
    "            # Choosing which head to use.\n",
    "            try:\n",
    "                chosen_set = random.choices(head_sets, weights=interval_weights, k=1)[0] # Using random module as numpy can not deal with tuples.\n",
    "            except ValueError:\n",
    "                print(all_interval_weights[-5:])\n",
    "                raise ValueError('Interval probabilities are not normalised correctly.')\n",
    "            \n",
    "            conformal_sets_list.append(chosen_set)\n",
    "            chosen_interval_index.append(head_sets.index(chosen_set))\n",
    "\n",
    "             # TIME FRONTIER -------------\n",
    "\n",
    "            # Seeing whether result lies within the set.\n",
    "            err_true = AdaptiveCP.err_t(y[i_count], chosen_set)\n",
    "\n",
    "            # Computing the conformal set radi. \n",
    "            optimal_set_radius = abs(y[i_count] - y[i_count-1]) ### Added abs as this shoudl always be positive. however still has seemed to change anything\n",
    "            \n",
    "            head_set_radius = list(map(lambda Cset: (Cset[1] - Cset[0])/2, head_sets)) #(chosen_set[1] - chosen_set[0])/2\n",
    "            head_set_radius = np.array(head_set_radius)\n",
    "            \n",
    "            # Calculating the loss.\n",
    "            culmative_loss += Set_loss(optimal_set_radius, head_set_radius)\n",
    "\n",
    "            # Updating the weights.\n",
    "            new_weights = interval_weights * np.exp(-1 * nu * culmative_loss) # log space\n",
    "            final_weights = new_weights*(1-sigma) + (new_weights.mean() *sigma) # mean\n",
    "            \n",
    "            interval_weights = final_weights/sum(final_weights)\n",
    "\n",
    "\n",
    "            # Incrementing the i-count\n",
    "            i_count+=1\n",
    "\n",
    "            # Appending the results to the lists.\n",
    "            err_t_list.append(err_true)\n",
    "            chosen_radius_list.append((chosen_set[1] - chosen_set[0]/2)) \n",
    "            optimal_radius_list.append(optimal_set_radius)\n",
    "            all_head_radii.append(head_set_radius)\n",
    "            all_interval_weights.append(interval_weights)\n",
    "\n",
    "        # Calculating different averages\n",
    "        realised_interval_coverage = 1 - pd.Series(err_t_list).rolling(50).mean().mean() # 50 is arbitary and could be improved.\n",
    "        average_prediction_interval = np.mean([abs(x[1] - x[0]) for x in conformal_sets_list])\n",
    "\n",
    "        return {\n",
    "                'model': title if title is not None else 'safe AwACI',\n",
    "                'coverage_target': self.coverage_target,\n",
    "                'interval_candidates': interval_candidates,\n",
    "                'realised_interval_coverage': realised_interval_coverage,\n",
    "                'average_prediction_interval': average_prediction_interval,\n",
    "                'optimal_set_radius': optimal_radius_list, \n",
    "                'chosen_set_radius': chosen_radius_list,\n",
    "                'all_head_radii': all_head_radii,\n",
    "                'all_weights': all_interval_weights,\n",
    "                'conformal_sets': conformal_sets_list,\n",
    "                'error_t_list': err_t_list,\n",
    "                'chosen_interval_index': chosen_interval_index,\n",
    "                'start_point': start_point,\n",
    "                'interval_size': 50\n",
    "            }\n"
   ]
  },
  {
   "cell_type": "code",
   "execution_count": 6,
   "metadata": {},
   "outputs": [],
   "source": [
    "class pinball_safe_AwACI(AdaptiveCP):\n",
    "    def ACI_head(self, timeseries_data: tuple, gamma: float, start_point: int, custom_interval = None):\n",
    "            xpred, y = timeseries_data\n",
    "            alpha_t_list = [self.coverage_target]\n",
    "\n",
    "            All_scores = self.score_function(xpred, y)\n",
    "\n",
    "            err_t_list = []\n",
    "            conformal_sets_list = []\n",
    "\n",
    "            pinball_loss = self.vectorize_l()\n",
    "            \n",
    "            for i in range(start_point, len(All_scores)):\n",
    "                Coverage_t = self.C_t(alpha_t_list[-1], All_scores, xpred[i], i, custom_interval)\n",
    "                conformal_sets_list.append(Coverage_t)\n",
    "\n",
    "                # Finding B_t\n",
    "                low, high = 0, 999 \n",
    "                possibilities = np.linspace(0, 1, 1000) # as 1 - \n",
    "\n",
    "                B_t = 1\n",
    "                while low <= high:\n",
    "                    mid = (high + low) // 2\n",
    "                    possi = possibilities[mid]\n",
    "                    Cpossi = self.C_t(possi, All_scores, xpred[i], i, custom_interval)\n",
    "\n",
    "                    if Cpossi[0] < y[i] < Cpossi[1]:\n",
    "                        B_t = possi\n",
    "                        low = mid + 1\n",
    "                    else:\n",
    "                        high = mid - 1\n",
    "\n",
    "                yield Coverage_t, pinball_loss(B_t, alpha_t_list[-1])\n",
    "\n",
    "                error_t = AdaptiveCP.err_t(y[i], Coverage_t)\n",
    "                err_t_list.append(error_t)\n",
    "\n",
    "                alpha_t = min(max(alpha_t_list[-1] + (gamma * (self.coverage_target - error_t)), 0), 1)\n",
    "                alpha_t_list.append(alpha_t)\n",
    "\n",
    "            return False\n",
    "        \n",
    "    def AwACI(self, timeseries_data: tuple, interval_candidates: np.array = None, nu_sigma: tuple = (10**-3, 0.05), gamma: float = 0.05, title: str = None):\n",
    "            \n",
    "            _, y = timeseries_data\n",
    "\n",
    "            chosen_interval_index = []\n",
    "            err_t_list = []\n",
    "            conformal_sets_list = []\n",
    "            optimal_radius_list = []\n",
    "            chosen_radius_list = []\n",
    "            all_interval_weights = []\n",
    "\n",
    "            # Scale parameters, havent looked into scaling them best.\n",
    "            sigma = nu_sigma[1]\n",
    "            nu = nu_sigma[0] \n",
    "\n",
    "            if interval_candidates is None:\n",
    "                interval_candidates = np.array(range(50, 550, 100))\n",
    "\n",
    "            # To sync all of the heads we need to start at the max of all the candidates.\n",
    "            start_point = max(interval_candidates) + 1\n",
    "            i_count = start_point\n",
    "\n",
    "            # Create the head and intitialse the weights.\n",
    "            ACI_heads = [self.ACI_head(timeseries_data, gamma, start_point, interval) for interval in interval_candidates]\n",
    "            interval_weights = np.ones(len(interval_candidates))\n",
    "            culmative_loss = np.zeros(len(interval_candidates))\n",
    "            \n",
    "            # Continues calculating intervals until one of the heads stops.\n",
    "            none_terminated = True\n",
    "\n",
    "            while none_terminated: \n",
    "                head_sets = [] # Will contain the result from each head.\n",
    "                pinball_loss_list = [] # Will contain the B_t values for each head.\n",
    "                \n",
    "                # Create the mass distribution for each head\n",
    "\n",
    "            \n",
    "                try:\n",
    "                    # Create a list of the coverages for the different heads.\n",
    "                    for head in ACI_heads:\n",
    "                            coverage, loss = next(head)\n",
    "                            \n",
    "                            head_sets.append(coverage)\n",
    "                            pinball_loss_list.append(loss)\n",
    "\n",
    "                except StopIteration: # One head is terminated.\n",
    "                    none_terminated = False\n",
    "                    break # You could but the return statement here\n",
    "\n",
    "                # Choosing which head to use.\n",
    "                chosen_set = random.choices(head_sets, weights=interval_weights, k=1)[0] # Using random module as numpy can not deal with tuples.\n",
    "\n",
    "                # TIME FRONTIER -------------\n",
    "\n",
    "                # Seeing whether result lies within the set.\n",
    "                err_true = AdaptiveCP.err_t(y[i_count], chosen_set)\n",
    "\n",
    "                # Calculating the loss.\n",
    "                culmative_loss += np.array(pinball_loss_list)\n",
    "\n",
    "                # Updating the weights.\n",
    "                new_weights = interval_weights * np.exp(-1 * nu * culmative_loss) # log space\n",
    "                final_weights = new_weights*(1-sigma) + (new_weights.mean() *sigma) # mean\n",
    "\n",
    "                interval_weights = final_weights/sum(final_weights)\n",
    "\n",
    "\n",
    "                # Incrementing the i-count\n",
    "                i_count+=1\n",
    "\n",
    "                err_t_list.append(err_true)\n",
    "                conformal_sets_list.append(chosen_set)\n",
    "                chosen_interval_index.append(head_sets.index(chosen_set))\n",
    "                all_interval_weights.append(interval_weights)\n",
    "                \n",
    "            # Calculating different averages\n",
    "            realised_interval_coverage = 1 - pd.Series(err_t_list).rolling(50).mean().mean() # 50 is arbitary and could be improved.\n",
    "            average_prediction_interval = np.mean([abs(x[1] - x[0]) for x in conformal_sets_list])\n",
    "\n",
    "            return {\n",
    "                    'model': title if title is not None else 'pinball AwACI',\n",
    "                    'coverage_target': self.coverage_target,\n",
    "                    'interval_candidates': interval_candidates,\n",
    "                    'realised_interval_coverage': realised_interval_coverage,\n",
    "                    'average_prediction_interval': average_prediction_interval,\n",
    "                    'optimal_set_radius': optimal_radius_list, \n",
    "                    'chosen_set_radius': chosen_radius_list,\n",
    "                    'conformal_sets': conformal_sets_list,\n",
    "                    'error_t_list': err_t_list,\n",
    "                    'chosen_interval_index': chosen_interval_index,\n",
    "                    'start_point': start_point,\n",
    "                    'interval_size': 50,\n",
    "                    'all_weights': all_interval_weights\n",
    "                }"
   ]
  },
  {
   "cell_type": "code",
   "execution_count": 9,
   "metadata": {},
   "outputs": [],
   "source": [
    "pACP = pinball_safe_AwACI(coverage_target=0.1)\n",
    "sACP = set_safe_AwACI(coverage_target=0.1)\n",
    "oACP = AdaptiveCP(coverage_target=0.1)"
   ]
  },
  {
   "cell_type": "markdown",
   "metadata": {},
   "source": [
    "# Getting the data"
   ]
  },
  {
   "cell_type": "code",
   "execution_count": 8,
   "metadata": {},
   "outputs": [],
   "source": [
    "mulit_shift = ACP_data.random_multi_shift(100, (2500,2501), number_shift_range=(5,8))"
   ]
  },
  {
   "cell_type": "markdown",
   "metadata": {},
   "source": [
    "# Comparing"
   ]
  },
  {
   "cell_type": "code",
   "execution_count": 11,
   "metadata": {},
   "outputs": [
    {
     "name": "stdout",
     "output_type": "stream",
     "text": [
      "0\n",
      "10\n",
      "20\n",
      "30\n",
      "40\n",
      "50\n",
      "60\n",
      "70\n",
      "80\n",
      "90\n"
     ]
    }
   ],
   "source": [
    "# For the random data\n",
    "set_dict = {'coverge':[], 'width':[]}\n",
    "pinball_dict = {'coverge':[], 'width':[]}\n",
    "org_dict = {'coverge':[], 'width':[]}\n",
    "aci_dict = {'coverge':[], 'width':[]}\n",
    "\n",
    "for i, data in enumerate(mulit_shift):\n",
    "    set = sACP.AwACI(data, nu_sigma=(10**-3, 0.05))\n",
    "    pin = pACP.AwACI(data, nu_sigma=(10**-2, 0.05))\n",
    "    org = oACP.AwACI(data, nu_sigma=(10**-3, 0.05))\n",
    "    aci = oACP.ACI(data, custom_interval=250)\n",
    "\n",
    "    set_dict['coverge'].append(set['realised_interval_coverage'])\n",
    "    set_dict['width'].append(set['average_prediction_interval'])\n",
    "\n",
    "    pinball_dict['coverge'].append(pin['realised_interval_coverage'])\n",
    "    pinball_dict['width'].append(pin['average_prediction_interval'])\n",
    "\n",
    "    org_dict['coverge'].append(org['realised_interval_coverage'])\n",
    "    org_dict['width'].append(org['average_prediction_interval'])\n",
    "\n",
    "    aci_dict['coverge'].append(aci['realised_interval_coverage'])\n",
    "    aci_dict['width'].append(aci['average_prediction_interval'])\n",
    "\n",
    "    if i % 10 == 0:\n",
    "        print(i)\n",
    "    "
   ]
  },
  {
   "cell_type": "code",
   "execution_count": 12,
   "metadata": {},
   "outputs": [
    {
     "name": "stdout",
     "output_type": "stream",
     "text": [
      "Set coverage: 0.897424848274137 170.75200693037013\n",
      "Pinball coverage: 0.8978170847923963 197.4684421863554\n",
      "Org coverage: 0.8981442765382691 176.47711230933072\n",
      "ACI coverage: 0.8981962591260491 171.14592094347915\n"
     ]
    }
   ],
   "source": [
    "set_coverage = np.array(set_dict['coverge'])\n",
    "set_width = np.array(set_dict['width'])\n",
    "\n",
    "pinball_coverage = np.array(pinball_dict['coverge'])\n",
    "pinball_width = np.array(pinball_dict['width'])\n",
    "\n",
    "org_coverage = np.array(org_dict['coverge'])\n",
    "org_width = np.array(org_dict['width'])\n",
    "\n",
    "aci_coverage = np.array(aci_dict['coverge'])\n",
    "aci_width = np.array(aci_dict['width'])\n",
    "\n",
    "# Printing the results\n",
    "print('Set coverage:', np.mean(set_coverage), np.mean(set_width))\n",
    "print('Pinball coverage:', np.mean(pinball_coverage), np.mean(pinball_width))\n",
    "print('Org coverage:', np.mean(org_coverage), np.mean(org_width))\n",
    "print('ACI coverage:', np.mean(aci_coverage), np.mean(aci_width))"
   ]
  },
  {
   "cell_type": "code",
   "execution_count": null,
   "metadata": {},
   "outputs": [],
   "source": [
    "new_transform = lambda x: np.append(x[:2], 0.5*x[:-2] + 0.5*x[1:-1] + x[2:])\n"
   ]
  },
  {
   "cell_type": "code",
   "execution_count": 15,
   "metadata": {},
   "outputs": [
    {
     "name": "stdout",
     "output_type": "stream",
     "text": [
      "count     100.000000\n",
      "mean      170.752007\n",
      "std       159.309718\n",
      "min        33.687784\n",
      "25%        98.697560\n",
      "50%       135.064007\n",
      "75%       176.293213\n",
      "max      1288.795760\n",
      "dtype: float64\n",
      "count     100.000000\n",
      "mean      197.468442\n",
      "std       207.217906\n",
      "min        33.543011\n",
      "25%       102.701353\n",
      "50%       147.254386\n",
      "75%       194.029290\n",
      "max      1386.509741\n",
      "dtype: float64\n",
      "count     100.000000\n",
      "mean      176.477112\n",
      "std       146.179381\n",
      "min        33.478720\n",
      "25%        97.045079\n",
      "50%       141.309277\n",
      "75%       200.597582\n",
      "max      1018.809858\n",
      "dtype: float64\n",
      "count     100.000000\n",
      "mean      171.145921\n",
      "std       156.979958\n",
      "min        29.674029\n",
      "25%        95.216827\n",
      "50%       131.764418\n",
      "75%       179.786920\n",
      "max      1048.597647\n",
      "dtype: float64\n"
     ]
    }
   ],
   "source": [
    "print(pd.Series(set_width).describe())\n",
    "print(pd.Series(pinball_width).describe())\n",
    "print(pd.Series(org_width).describe())\n",
    "print(pd.Series(aci_width).describe())\n"
   ]
  },
  {
   "cell_type": "markdown",
   "metadata": {},
   "source": []
  },
  {
   "cell_type": "code",
   "execution_count": 17,
   "metadata": {},
   "outputs": [
    {
     "data": {
      "image/png": "[encoded data removed]",
      "text/plain": [
       "<Figure size 1000x600 with 1 Axes>"
      ]
     },
     "metadata": {},
     "output_type": "display_data"
    }
   ],
   "source": [
    "import seaborn as sns\n",
    "# Create a DataFrame for easier plotting\n",
    "data = pd.DataFrame({\n",
    "    'Set Width': set_width,\n",
    "    'Pinball Width': pinball_width,\n",
    "    'Org Width': org_width,\n",
    "    'ACI Width': aci_width\n",
    "})\n",
    "\n",
    "# Melt the DataFrame for Seaborn\n",
    "melted_data = data.melt(var_name='Category', value_name='Value')\n",
    "\n",
    "# Create a box plot\n",
    "plt.figure(figsize=(10, 6))\n",
    "sns.boxplot(x='Category', y='Value', data=melted_data)\n",
    "plt.title('Box Plot of Widths')\n",
    "plt.show()"
   ]
  },
  {
   "cell_type": "markdown",
   "metadata": {},
   "source": []
  },
  {
   "cell_type": "code",
   "execution_count": 18,
   "metadata": {},
   "outputs": [
    {
     "name": "stdout",
     "output_type": "stream",
     "text": [
      "0\n"
     ]
    }
   ],
   "source": [
    "# For the random data\n",
    "set_dict = {'coverge':[], 'width':[]}\n",
    "pinball_dict = {'coverge':[], 'width':[]}\n",
    "org_dict = {'coverge':[], 'width':[]}\n",
    "aci_dict = {'coverge':[], 'width':[]}\n",
    "\n",
    "for i, data in enumerate(mulit_shift[:10]):\n",
    "    set = sACP.AwACI(data, nu_sigma=(10**-3, 0.2))\n",
    "    pin = pACP.AwACI(data, nu_sigma=(10**-2, 0.2))\n",
    "    org = oACP.AwACI(data, nu_sigma=(10**-3, 0.2))\n",
    "    aci = oACP.ACI(data, custom_interval=250)\n",
    "\n",
    "    set_dict['coverge'].append(set['realised_interval_coverage'])\n",
    "    set_dict['width'].append(set['average_prediction_interval'])\n",
    "\n",
    "    pinball_dict['coverge'].append(pin['realised_interval_coverage'])\n",
    "    pinball_dict['width'].append(pin['average_prediction_interval'])\n",
    "\n",
    "    org_dict['coverge'].append(org['realised_interval_coverage'])\n",
    "    org_dict['width'].append(org['average_prediction_interval'])\n",
    "\n",
    "    aci_dict['coverge'].append(aci['realised_interval_coverage'])\n",
    "    aci_dict['width'].append(aci['average_prediction_interval'])\n",
    "\n",
    "    if i % 10 == 0:\n",
    "        print(i)"
   ]
  },
  {
   "cell_type": "code",
   "execution_count": null,
   "metadata": {},
   "outputs": [],
   "source": []
  },
  {
   "cell_type": "code",
   "execution_count": null,
   "metadata": {},
   "outputs": [
    {
     "name": "stdout",
     "output_type": "stream",
     "text": [
      "count     100.000000\n",
      "mean      170.752007\n",
      "std       159.309718\n",
      "min        33.687784\n",
      "25%        98.697560\n",
      "50%       135.064007\n",
      "75%       176.293213\n",
      "max      1288.795760\n",
      "dtype: float64\n",
      "count     100.000000\n",
      "mean      197.468442\n",
      "std       207.217906\n",
      "min        33.543011\n",
      "25%       102.701353\n",
      "50%       147.254386\n",
      "75%       194.029290\n",
      "max      1386.509741\n",
      "dtype: float64\n",
      "count     100.000000\n",
      "mean      176.477112\n",
      "std       146.179381\n",
      "min        33.478720\n",
      "25%        97.045079\n",
      "50%       141.309277\n",
      "75%       200.597582\n",
      "max      1018.809858\n",
      "dtype: float64\n",
      "count     100.000000\n",
      "mean      171.145921\n",
      "std       156.979958\n",
      "min        29.674029\n",
      "25%        95.216827\n",
      "50%       131.764418\n",
      "75%       179.786920\n",
      "max      1048.597647\n",
      "dtype: float64\n"
     ]
    }
   ],
   "source": [
    "print(pd.Series(set_width).describe())\n",
    "print(pd.Series(pinball_width).describe())\n",
    "print(pd.Series(org_width).describe())\n",
    "print(pd.Series(aci_width).describe())\n"
   ]
  },
  {
   "cell_type": "code",
   "execution_count": 20,
   "metadata": {},
   "outputs": [
    {
     "name": "stdout",
     "output_type": "stream",
     "text": [
      "count      10.000000\n",
      "mean      283.200713\n",
      "std       351.186660\n",
      "min       103.426135\n",
      "25%       117.285451\n",
      "50%       146.093952\n",
      "75%       166.918874\n",
      "max      1201.700028\n",
      "dtype: float64\n"
     ]
    }
   ],
   "source": [
    "print(pd.Series(pinball_width).iloc[:10].describe())"
   ]
  },
  {
   "cell_type": "code",
   "execution_count": 19,
   "metadata": {},
   "outputs": [
    {
     "name": "stdout",
     "output_type": "stream",
     "text": [
      "0\n"
     ]
    }
   ],
   "source": [
    "new_pin_dict = {'coverge':[], 'width':[]}\n",
    "\n",
    "for i, data in enumerate(mulit_shift[:10]):\n",
    "    pin = pACP.AwACI(data, nu_sigma=(np.sqrt(2*np.log(2*5)/2000), 0.2))\n",
    "\n",
    "    new_pin_dict['coverge'].append(pin['realised_interval_coverage'])\n",
    "    new_pin_dict['width'].append(pin['average_prediction_interval'])\n",
    "\n",
    "    if i % 10 == 0:\n",
    "        print(i)"
   ]
  },
  {
   "cell_type": "code",
   "execution_count": 22,
   "metadata": {},
   "outputs": [
    {
     "data": {
      "text/plain": [
       "np.float64(0.04798525912188081)"
      ]
     },
     "execution_count": 22,
     "metadata": {},
     "output_type": "execute_result"
    }
   ],
   "source": [
    "np.sqrt(2*np.log(2*5)/2000)"
   ]
  },
  {
   "cell_type": "code",
   "execution_count": 21,
   "metadata": {},
   "outputs": [
    {
     "name": "stdout",
     "output_type": "stream",
     "text": [
      "count      10.000000\n",
      "mean      288.647405\n",
      "std       394.563862\n",
      "min        75.765033\n",
      "25%       130.247166\n",
      "50%       156.795161\n",
      "75%       171.006076\n",
      "max      1383.442444\n",
      "dtype: float64\n"
     ]
    }
   ],
   "source": [
    "print(pd.Series(new_pin_dict['width']).iloc[:10].describe())"
   ]
  }
 ],
 "metadata": {
  "kernelspec": {
   "display_name": "Python 3",
   "language": "python",
   "name": "python3"
  },
  "language_info": {
   "codemirror_mode": {
    "name": "ipython",
    "version": 3
   },
   "file_extension": ".py",
   "mimetype": "text/x-python",
   "name": "python",
   "nbconvert_exporter": "python",
   "pygments_lexer": "ipython3",
   "version": "3.12.4"
  }
 },
 "nbformat": 4,
 "nbformat_minor": 2
}
