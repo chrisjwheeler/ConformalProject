{
 "cells": [
  {
   "cell_type": "code",
   "execution_count": 84,
   "metadata": {},
   "outputs": [],
   "source": [
    "## First I need to be sure of what the completion dict is "
   ]
  },
  {
   "cell_type": "code",
   "execution_count": 85,
   "metadata": {},
   "outputs": [],
   "source": [
    "import os\n",
    "import sys\n",
    "import warnings\n",
    "warnings.filterwarnings(\"ignore\")\n",
    "\n",
    "import numpy as np\n",
    "import pandas as pd\n",
    "#import yahooquery as yq\n",
    "import random\n",
    "\n",
    "import matplotlib.pyplot as plt\n",
    "src_path = os.path.abspath(os.path.join('..', '..', 'src'))\n",
    "sys.path.append(src_path)\n",
    "\n",
    "from ConformalMethods import AdaptiveCP, ACP_plots, ACP_data"
   ]
  },
  {
   "cell_type": "code",
   "execution_count": null,
   "metadata": {},
   "outputs": [],
   "source": []
  },
  {
   "cell_type": "code",
   "execution_count": 86,
   "metadata": {},
   "outputs": [],
   "source": [
    "\n",
    "import pickle \n",
    "with open('competion_dict25_4.pkl', 'rb') as f:\n",
    "    data = pickle.load(f)"
   ]
  },
  {
   "cell_type": "code",
   "execution_count": 87,
   "metadata": {},
   "outputs": [],
   "source": [
    "all_stock_data = ACP_data.stock_data(25)\n"
   ]
  },
  {
   "cell_type": "code",
   "execution_count": 88,
   "metadata": {},
   "outputs": [],
   "source": [
    "truncated_stock_data = [(stock[0][501:], stock[1][501:]) for stock in all_stock_data]"
   ]
  },
  {
   "cell_type": "code",
   "execution_count": 89,
   "metadata": {},
   "outputs": [
    {
     "name": "stdout",
     "output_type": "stream",
     "text": [
      "dict_keys(['model', 'coverage_target', 'gamma', 'realised_interval_coverage', 'alpha_t_list', 'average_prediction_interval', 'conformal_sets', 'error_t_list', 'interval_size'])\n",
      "2015\n"
     ]
    }
   ],
   "source": [
    "# Now lets get a result so we can calculate the winkler loss.\n",
    "# Luckily the data is just the first 25 stocks.\n",
    "print(data['ACI']['raw_results'][0].keys())\n",
    "print(len(data['ACI']['raw_results'][0]['error_t_list']))"
   ]
  },
  {
   "cell_type": "code",
   "execution_count": 90,
   "metadata": {},
   "outputs": [
    {
     "name": "stdout",
     "output_type": "stream",
     "text": [
      "2015 2015\n"
     ]
    }
   ],
   "source": [
    "print(len(truncated_stock_data[0][0]), len(data['ACI']['raw_results'][0]['conformal_sets']))"
   ]
  },
  {
   "cell_type": "code",
   "execution_count": 91,
   "metadata": {},
   "outputs": [
    {
     "name": "stdout",
     "output_type": "stream",
     "text": [
      "ACI\n",
      "209851.96334920978\n",
      "DtACI\n",
      "210313.31819246648\n",
      "AwACI\n",
      "nan\n",
      "AwDtACI\n",
      "nan\n",
      "MACI\n",
      "nan\n",
      "HACI_dual_tail\n",
      "207897.0278674483\n",
      "HACI_one_side\n",
      "209745.3597833031\n",
      "HACI\n",
      "208542.00547425236\n"
     ]
    }
   ],
   "source": [
    "# Now we will calculate winkler from results\n",
    "\n",
    "def winkler_loss_component(a, b, theta, alpha):\n",
    "    if a< theta and theta < b:\n",
    "        return b-a\n",
    "    elif a >= theta:\n",
    "        return (b-a) + (2/alpha)*(a-theta)\n",
    "    else:\n",
    "        return (b-a) + (2/alpha)*(theta-b)\n",
    "     \n",
    "all_keys = list(data.keys())\n",
    "for i, method_raw_res in enumerate(data.values()):\n",
    "    print(all_keys[i])\n",
    "    \n",
    "    result_list = method_raw_res['raw_results']\n",
    "    all_winkler_loss = []\n",
    "    \n",
    "    for data, result in zip(truncated_stock_data, result_list):\n",
    "        if len(data[0]) == len(result['conformal_sets']):\n",
    "            winkler_loss = sum([winkler_loss_component(a, b, theta, 0.1) for (a, b), theta in zip(result['conformal_sets'], data[1])])\n",
    "            all_winkler_loss.append(winkler_loss)\n",
    "    \n",
    "    #plt.plot(all_winkler_loss)\n",
    "    #plt.show()\n",
    "    print(np.mean(all_winkler_loss))\n"
   ]
  },
  {
   "cell_type": "code",
   "execution_count": 92,
   "metadata": {},
   "outputs": [
    {
     "ename": "AttributeError",
     "evalue": "'tuple' object has no attribute 'items'",
     "output_type": "error",
     "traceback": [
      "\u001b[1;31m---------------------------------------------------------------------------\u001b[0m",
      "\u001b[1;31mAttributeError\u001b[0m                            Traceback (most recent call last)",
      "Cell \u001b[1;32mIn[92], line 3\u001b[0m\n\u001b[0;32m      1\u001b[0m \u001b[38;5;28;01mfrom\u001b[39;00m \u001b[38;5;21;01mpprint\u001b[39;00m \u001b[38;5;28;01mimport\u001b[39;00m pprint \n\u001b[1;32m----> 3\u001b[0m pprint([\u001b[38;5;28mtype\u001b[39m(x) \u001b[38;5;28;01mfor\u001b[39;00m x \u001b[38;5;129;01min\u001b[39;00m \u001b[43mdata\u001b[49m\u001b[38;5;241;43m.\u001b[39;49m\u001b[43mitems\u001b[49m()])\n",
      "\u001b[1;31mAttributeError\u001b[0m: 'tuple' object has no attribute 'items'"
     ]
    }
   ],
   "source": [
    "from pprint import pprint \n",
    "\n",
    "pprint([type(x) for x in data.items()])"
   ]
  },
  {
   "cell_type": "code",
   "execution_count": null,
   "metadata": {},
   "outputs": [
    {
     "name": "stdout",
     "output_type": "stream",
     "text": [
      "2\n"
     ]
    }
   ],
   "source": [
    "print(len(list(data.items())[1]))"
   ]
  }
 ],
 "metadata": {
  "kernelspec": {
   "display_name": "Python 3",
   "language": "python",
   "name": "python3"
  },
  "language_info": {
   "codemirror_mode": {
    "name": "ipython",
    "version": 3
   },
   "file_extension": ".py",
   "mimetype": "text/x-python",
   "name": "python",
   "nbconvert_exporter": "python",
   "pygments_lexer": "ipython3",
   "version": "3.12.1"
  }
 },
 "nbformat": 4,
 "nbformat_minor": 2
}
