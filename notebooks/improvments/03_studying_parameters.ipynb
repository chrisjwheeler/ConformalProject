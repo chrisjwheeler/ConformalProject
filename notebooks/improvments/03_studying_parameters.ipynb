{
 "cells": [
  {
   "cell_type": "code",
   "execution_count": 2,
   "metadata": {},
   "outputs": [],
   "source": [
    "import pickle\n",
    "from matplotlib import pyplot as plt\n",
    "import pandas as pd\n",
    "import numpy as np\n",
    "import seaborn as sns"
   ]
  },
  {
   "cell_type": "code",
   "execution_count": 3,
   "metadata": {},
   "outputs": [],
   "source": [
    "model_error_raw_results = pickle.load(open('model_error_raw_results1.pkl', 'rb'))"
   ]
  },
  {
   "cell_type": "code",
   "execution_count": null,
   "metadata": {},
   "outputs": [],
   "source": [
    "def compare_betas(keys_to_compare):\n",
    "     # Plot phi\n",
    "    plt.figure(figsize=(8, 6))\n",
    "\n",
    "    for key in keys_to_compare:\n",
    "        params = model_error_raw_results[key]['params_t_list']['lower']\n",
    "        phi, beta = list(zip(*params))\n",
    "        weight = pd.Series(model_error_data_dict[key][0][1][250:]).rolling(50).mean()\n",
    "        \n",
    "        phi_weight = pd.Series(phi).rolling(50).mean() \n",
    "        \n",
    "        sns.lineplot(x=range(len(beta)), y= phi_weight, label = f'Average of phi: {key}')\n",
    "        sns.lineplot(x=range(len(beta)), y=pd.Series(beta).rolling(50).mean() * weight, label=f'Model Error: {key}')\n",
    "    \n",
    "    plt.xlabel('Time')\n",
    "    plt.ylabel('Phi')\n",
    "    plt.title(f'Phi for Model Error {key}')\n",
    "    plt.show()"
   ]
  }
 ],
 "metadata": {
  "kernelspec": {
   "display_name": "Python 3",
   "language": "python",
   "name": "python3"
  },
  "language_info": {
   "codemirror_mode": {
    "name": "ipython",
    "version": 3
   },
   "file_extension": ".py",
   "mimetype": "text/x-python",
   "name": "python",
   "nbconvert_exporter": "python",
   "pygments_lexer": "ipython3",
   "version": "3.12.1"
  }
 },
 "nbformat": 4,
 "nbformat_minor": 2
}
