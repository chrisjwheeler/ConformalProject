{
 "cells": [
  {
   "cell_type": "code",
   "execution_count": 5,
   "metadata": {},
   "outputs": [],
   "source": [
    "import pickle \n",
    "import numpy as np"
   ]
  },
  {
   "cell_type": "code",
   "execution_count": 3,
   "metadata": {},
   "outputs": [],
   "source": [
    "f = open('ACI_checkpoint.pkl', 'rb')\n",
    "data = pickle.load(f)"
   ]
  },
  {
   "cell_type": "code",
   "execution_count": 13,
   "metadata": {},
   "outputs": [
    {
     "name": "stdout",
     "output_type": "stream",
     "text": [
      "<class 'dict'>\n"
     ]
    }
   ],
   "source": [
    "print(type(data))"
   ]
  },
  {
   "cell_type": "code",
   "execution_count": 16,
   "metadata": {},
   "outputs": [
    {
     "name": "stdout",
     "output_type": "stream",
     "text": [
      "dict_keys(['next', 'target', 'individual_results'])\n"
     ]
    }
   ],
   "source": [
    "print(data.keys())"
   ]
  },
  {
   "cell_type": "code",
   "execution_count": 20,
   "metadata": {},
   "outputs": [],
   "source": [
    "for x in data['individual_results']:\n",
    "    for key in list(x.keys()):\n",
    "        if x[key] == np.nan:\n",
    "            print(x)"
   ]
  },
  {
   "cell_type": "code",
   "execution_count": 21,
   "metadata": {},
   "outputs": [
    {
     "name": "stdout",
     "output_type": "stream",
     "text": [
      "91\n"
     ]
    }
   ],
   "source": [
    "print(len(data['individual_results']))"
   ]
  },
  {
   "cell_type": "code",
   "execution_count": 26,
   "metadata": {},
   "outputs": [
    {
     "name": "stdout",
     "output_type": "stream",
     "text": [
      "{'coverage': np.float64(0.8986086534988417), 'width': np.float64(11.840471549453616), 'Qwidth1': np.float64(6.398862452646307), 'Qwidth25': np.float64(9.104837250964094), 'Qwidth50': np.float64(10.981563210249934), 'Qwidth75': np.float64(13.62804142345832), 'Qwidth99': np.float64(25.843790177485722)}\n"
     ]
    }
   ],
   "source": [
    "averages = {}\n",
    "for key in list(data['individual_results'][0].keys())[1:]:\n",
    "    averages[key] = np.nanmean([x[key] for x in data['individual_results']])\n",
    "\n",
    "print(averages)"
   ]
  },
  {
   "cell_type": "code",
   "execution_count": 23,
   "metadata": {},
   "outputs": [],
   "source": [
    "coverages = np.array([x['coverage'] for x in data['individual_results']])"
   ]
  },
  {
   "cell_type": "code",
   "execution_count": 24,
   "metadata": {},
   "outputs": [
    {
     "data": {
      "text/plain": [
       "True"
      ]
     },
     "execution_count": 24,
     "metadata": {},
     "output_type": "execute_result"
    }
   ],
   "source": [
    "any(np.isnan(coverages))"
   ]
  },
  {
   "cell_type": "code",
   "execution_count": 28,
   "metadata": {},
   "outputs": [
    {
     "name": "stdout",
     "output_type": "stream",
     "text": [
      "[0.90001647 0.8969028  0.89710049 0.89654036 0.89658824 0.8993575\n",
      " 0.89609555 0.89859967 0.90049423 0.8978089  0.89668863 0.8984514\n",
      " 0.89968699 0.89879736 0.89892916 0.89914333 0.89746293 0.89517298\n",
      " 0.89790774 0.90067545 0.8985173  0.89551895 0.89991763 0.89820428\n",
      " 0.90057661 0.90028007 0.89574959 0.90125206 0.89897858 0.89920923\n",
      " 0.89738056 0.90049423 0.89846787 0.89843493 0.90169687 0.89733114\n",
      " 0.89797364 0.8985832  0.89940692 0.89970346 0.8961944  0.89685338\n",
      " 0.90140033 0.89932455 0.89794069 0.89848435 0.89691928 0.89785832\n",
      " 0.90271829 0.89840198 0.89836903 0.89822076 0.90362438 0.89920923\n",
      " 0.89871499 0.89736409 0.89813839 0.89813839 0.8953542  0.89675453\n",
      " 0.89925865 0.89897858 0.89920923 0.89815486 0.89667216 0.89678748\n",
      " 0.90039539 0.90039539 0.90029654 0.90108731 0.89976936 0.89963756\n",
      " 0.89537068 0.89718287 0.89789127 0.89962109 0.89959091 0.90039539\n",
      " 0.89939044 0.8961285  0.90042834 0.89843493 0.89454695 0.90037891\n",
      " 0.90018122 0.89907743        nan 0.89883031 0.89841845 0.90140033\n",
      " 0.89678748]\n"
     ]
    }
   ],
   "source": [
    "print(coverages)"
   ]
  }
 ],
 "metadata": {
  "kernelspec": {
   "display_name": "Python 3",
   "language": "python",
   "name": "python3"
  },
  "language_info": {
   "codemirror_mode": {
    "name": "ipython",
    "version": 3
   },
   "file_extension": ".py",
   "mimetype": "text/x-python",
   "name": "python",
   "nbconvert_exporter": "python",
   "pygments_lexer": "ipython3",
   "version": "3.12.4"
  }
 },
 "nbformat": 4,
 "nbformat_minor": 2
}
